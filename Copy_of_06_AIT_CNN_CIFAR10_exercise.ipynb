{
  "nbformat": 4,
  "nbformat_minor": 0,
  "metadata": {
    "anaconda-cloud": {},
    "kernelspec": {
      "display_name": "Python 3",
      "language": "python",
      "name": "python3"
    },
    "language_info": {
      "codemirror_mode": {
        "name": "ipython",
        "version": 3
      },
      "file_extension": ".py",
      "mimetype": "text/x-python",
      "name": "python",
      "nbconvert_exporter": "python",
      "pygments_lexer": "ipython3",
      "version": "3.6.6"
    },
    "colab": {
      "provenance": [],
      "include_colab_link": true
    },
    "accelerator": "GPU"
  },
  "cells": [
    {
      "cell_type": "markdown",
      "metadata": {
        "id": "view-in-github",
        "colab_type": "text"
      },
      "source": [
        "<a href=\"https://colab.research.google.com/github/jarraomar/AITDeepLearning/blob/main/Copy_of_06_AIT_CNN_CIFAR10_exercise.ipynb\" target=\"_parent\"><img src=\"https://colab.research.google.com/assets/colab-badge.svg\" alt=\"Open In Colab\"/></a>"
      ]
    },
    {
      "cell_type": "markdown",
      "metadata": {
        "id": "cW-EyI5Lxpqi"
      },
      "source": [
        "# Copyright\n",
        "\n",
        "<PRE>\n",
        "Copyright (c) 2023 Bálint Gyires-Tóth - All Rights Reserved\n",
        "You may use and modify this code for research and development purpuses.\n",
        "Using this code for educational purposes (self-paced or instructor led) without the permission of the author is prohibited.\n",
        "</PRE>"
      ]
    },
    {
      "cell_type": "markdown",
      "source": [
        "# Convolutional Neural Network exercise\n",
        "\n",
        "In this notebook, you will build a convolutional neural network, which offers superior results over the previous MLP solution. Additionally, you will perform a more detailed evaluation.  "
      ],
      "metadata": {
        "id": "3EX4cCa4WKJu"
      }
    },
    {
      "cell_type": "code",
      "source": [
        "# imports \n",
        "from tensorflow.keras.datasets import cifar10\n",
        "from tensorflow.keras.utils import to_categorical\n",
        "import numpy as np\n",
        "import matplotlib.pyplot as plt\n",
        "from tensorflow.keras.models import Sequential\n",
        "from tensorflow.keras.layers import Dense, Conv2D, MaxPool2D, Flatten, Dropout, BatchNormalization\n",
        "from tensorflow.keras.initializers import HeNormal\n",
        "from tensorflow.keras.callbacks import EarlyStopping"
      ],
      "metadata": {
        "id": "GdCMhy4HA2qd"
      },
      "execution_count": 1,
      "outputs": []
    },
    {
      "cell_type": "markdown",
      "source": [
        "# 1. Data\n",
        "The dataset we will use is the well-known CIFAR10 (Canadian Institute For Advanced Research). Explore the details on the Keras website first: https://keras.io/api/datasets/cifar10/\n",
        "\n",
        "There isn't much difference between the data preprocessing part and the one we did before. The only difference is that we don't have to reshape images into vectors, but we are working with a 4 dimensional data structure, where the dimensions are: batch, X, Y, and color channels. \n",
        "\n",
        "In the event that anything is not clear regarding the data preparation part, please check the previous CIFAR10 notebook."
      ],
      "metadata": {
        "id": "yY9fztIeWIKt"
      }
    },
    {
      "cell_type": "code",
      "source": [
        "(X_train, Y_train), (X_test, Y_test) = cifar10.load_data()"
      ],
      "metadata": {
        "id": "bez7q0eiWQCK",
        "colab": {
          "base_uri": "https://localhost:8080/"
        },
        "outputId": "643031c8-cd81-4ddc-c207-53933a73ce5e"
      },
      "execution_count": 2,
      "outputs": [
        {
          "output_type": "stream",
          "name": "stdout",
          "text": [
            "Downloading data from https://www.cs.toronto.edu/~kriz/cifar-10-python.tar.gz\n",
            "170498071/170498071 [==============================] - 6s 0us/step\n"
          ]
        }
      ]
    },
    {
      "cell_type": "code",
      "source": [
        "# it is in int8 format, the neural network requires float32\n",
        "X_train = X_train.astype(\"float32\")\n",
        "X_test = X_test.astype(\"float32\")"
      ],
      "metadata": {
        "id": "vukOcBM0XzSj"
      },
      "execution_count": 3,
      "outputs": []
    },
    {
      "cell_type": "code",
      "source": [
        "train_ratio  = 0.8\n",
        "train_length = X_train.shape[0]\n",
        "train_split  = int(train_ratio*train_length)\n",
        "X_valid, Y_valid = X_train[train_split:], Y_train[train_split:]\n",
        "X_train, Y_train = X_train[:train_split], Y_train[:train_split]"
      ],
      "metadata": {
        "id": "mRwuWxxIxLgN"
      },
      "execution_count": 4,
      "outputs": []
    },
    {
      "cell_type": "code",
      "source": [
        "mean = X_train.mean(axis=0)\n",
        "std  = X_train.std(axis=0)\n",
        "\n",
        "X_train = (X_train-mean)/std\n",
        "X_valid = (X_valid-mean)/std\n",
        "X_test  = (X_test-mean)/std"
      ],
      "metadata": {
        "id": "2ESLP1EIyB2J"
      },
      "execution_count": 5,
      "outputs": []
    },
    {
      "cell_type": "code",
      "source": [
        "nb_classes = len(np.unique(Y_train))\n",
        "Y_train = to_categorical(Y_train, nb_classes)\n",
        "Y_valid = to_categorical(Y_valid, nb_classes)\n",
        "Y_test  = to_categorical(Y_test, nb_classes)"
      ],
      "metadata": {
        "id": "xwZ4OJ6I8lba"
      },
      "execution_count": 6,
      "outputs": []
    },
    {
      "cell_type": "code",
      "source": [
        "print(\"Shapes of the training, validation and test input data:\", X_train.shape, X_valid.shape, X_test.shape)\n",
        "print(\"Shapes of the training, validation and test output data:\", Y_train.shape, Y_valid.shape, Y_test.shape)\n",
        "print(\"Mean values of the training, validation and test input data:\", X_train.mean(), X_valid.mean(), X_test.mean())\n",
        "print(\"Standard deviation of the training, validation and test input data:\", X_train.std(), X_valid.std(), X_test.std())"
      ],
      "metadata": {
        "id": "O_jdJVcvX0vi",
        "colab": {
          "base_uri": "https://localhost:8080/"
        },
        "outputId": "a5a12940-5b02-4ed1-ba3f-e47be2c50b3d"
      },
      "execution_count": 7,
      "outputs": [
        {
          "output_type": "stream",
          "name": "stdout",
          "text": [
            "Shapes of the training, validation and test input data: (40000, 32, 32, 3) (10000, 32, 32, 3) (10000, 32, 32, 3)\n",
            "Shapes of the training, validation and test output data: (40000, 10) (10000, 10) (10000, 10)\n",
            "Mean values of the training, validation and test input data: 2.2788842e-09 0.0023437198 0.013331206\n",
            "Standard deviation of the training, validation and test input data: 1.0000023 0.9965626 0.99783075\n"
          ]
        }
      ]
    },
    {
      "cell_type": "markdown",
      "metadata": {
        "id": "cJ14oyZExpqj"
      },
      "source": [
        "# 2. Exercise: training"
      ]
    },
    {
      "cell_type": "markdown",
      "source": [
        "Create and train a convolutional neural network with the following requirements:\n",
        "* apply early stopping with patience=5 and monitor the validation accuracy, don't forget to load back the best weights after early stopping\n",
        "* the number of trainable parameters is lower than 200.000\n",
        "* the validation accuracy must be higher than 72%\n",
        "\n",
        "Hints:\n",
        "* you can always inspect the number of trainable parameters per layer with model.summary()\n",
        "* usually the most trainable parameters are between the last convolutional layer and the next dense layer -- so you should have a reasonable output size at the last convolutional layer\n",
        "* regularization helps (e.g. DropOut and/or BatchNormalization)\n",
        "* use the right activation function at the output layer and the corresponding loss function\n",
        "* for the chosen activation functions, please use the appropriate initialization method\n",
        "* you can match the dimension of the last conv/pooling layer to the next dense layer with e.g. Flatten()\n",
        "* ADAM optimizer is a reasonable choice \n",
        "* don't forget to turn on GPU support in Colab, otherwise, it would be quite slow to train the networks\n",
        "\n"
      ],
      "metadata": {
        "id": "j1tGVPdD-pp3"
      }
    },
    {
      "cell_type": "code",
      "source": [
        "es = EarlyStopping(patience=10, restore_best_weights=True, verbose=1, monitor='val_accuracy')"
      ],
      "metadata": {
        "id": "5dBQxJHIHrbd"
      },
      "execution_count": 8,
      "outputs": []
    },
    {
      "cell_type": "code",
      "source": [
        "# model definition\n",
        "# model = Sequential()\n",
        "\n",
        "# Add convolutional layers\n",
        "# model.add(Conv2D(32, (3,3), activation='relu', padding='same', input_shape=X_train.shape[1:]))\n",
        "# model.add(Conv2D(64, (3,3), activation='relu', padding='same'))\n",
        "# model.add(Conv2D(128, (3,3), activation='relu', padding='same'))\n",
        "# model.add(Conv2D(128, (3,3), activation='relu', padding='same'))\n",
        "# model.add(MaxPool2D(pool_size=(2,2)))\n",
        "# model.add(Dropout(0.25))\n",
        "\n",
        "# Add fully connected layers\n",
        "# model.add(Flatten())\n",
        "# model.add(Dense(128, activation='relu'))\n",
        "# model.add(Dense(128, activation='relu'))\n",
        "# model.add(Dense(128, activation='relu'))\n",
        "# model.add(BatchNormalization())\n",
        "# model.add(Dropout(0.5))\n",
        "# model.add(Dense(nb_classes, activation='softmax'))\n",
        "\n",
        "# loss function and optimizer\n",
        "# model.compile(loss='categorical_crossentropy', optimizer='adam', metrics=['accuracy'])\n",
        "\n",
        "model = Sequential()\n",
        "\n",
        "# Add convolutional layers\n",
        "model.add(Conv2D(16, (3,3), activation='relu', padding='same', input_shape=X_train.shape[1:]))\n",
        "model.add(MaxPool2D(pool_size=(2,2)))\n",
        "model.add(Conv2D(32, (3,3), activation='relu', padding='same'))\n",
        "model.add(MaxPool2D(pool_size=(2,2)))\n",
        "model.add(Conv2D(64, (3,3), activation='relu', padding='same'))\n",
        "model.add(MaxPool2D(pool_size=(2,2)))\n",
        "model.add(Dropout(0.25))\n",
        "\n",
        "# Add fully connected layers\n",
        "model.add(Flatten())\n",
        "model.add(Dense(128, activation='relu'))\n",
        "model.add(BatchNormalization())\n",
        "model.add(Dropout(0.5))\n",
        "model.add(Dense(nb_classes, activation='softmax'))\n",
        "\n",
        "# loss function and optimizer\n",
        "model.compile(loss='categorical_crossentropy', optimizer='adam', metrics=['accuracy'])"
      ],
      "metadata": {
        "id": "PuxHOqLt-3Nd"
      },
      "execution_count": 15,
      "outputs": []
    },
    {
      "cell_type": "code",
      "source": [
        "model.summary()"
      ],
      "metadata": {
        "id": "5eomQw8uE9Ix",
        "colab": {
          "base_uri": "https://localhost:8080/"
        },
        "outputId": "f81a959b-4698-4707-a435-16d922f306be"
      },
      "execution_count": 16,
      "outputs": [
        {
          "output_type": "stream",
          "name": "stdout",
          "text": [
            "Model: \"sequential_2\"\n",
            "_________________________________________________________________\n",
            " Layer (type)                Output Shape              Param #   \n",
            "=================================================================\n",
            " conv2d_6 (Conv2D)           (None, 32, 32, 16)        448       \n",
            "                                                                 \n",
            " max_pooling2d_2 (MaxPooling  (None, 16, 16, 16)       0         \n",
            " 2D)                                                             \n",
            "                                                                 \n",
            " conv2d_7 (Conv2D)           (None, 16, 16, 32)        4640      \n",
            "                                                                 \n",
            " max_pooling2d_3 (MaxPooling  (None, 8, 8, 32)         0         \n",
            " 2D)                                                             \n",
            "                                                                 \n",
            " conv2d_8 (Conv2D)           (None, 8, 8, 64)          18496     \n",
            "                                                                 \n",
            " max_pooling2d_4 (MaxPooling  (None, 4, 4, 64)         0         \n",
            " 2D)                                                             \n",
            "                                                                 \n",
            " dropout_7 (Dropout)         (None, 4, 4, 64)          0         \n",
            "                                                                 \n",
            " flatten_2 (Flatten)         (None, 1024)              0         \n",
            "                                                                 \n",
            " dense_6 (Dense)             (None, 128)               131200    \n",
            "                                                                 \n",
            " batch_normalization_2 (Batc  (None, 128)              512       \n",
            " hNormalization)                                                 \n",
            "                                                                 \n",
            " dropout_8 (Dropout)         (None, 128)               0         \n",
            "                                                                 \n",
            " dense_7 (Dense)             (None, 10)                1290      \n",
            "                                                                 \n",
            "=================================================================\n",
            "Total params: 156,586\n",
            "Trainable params: 156,330\n",
            "Non-trainable params: 256\n",
            "_________________________________________________________________\n"
          ]
        }
      ]
    },
    {
      "cell_type": "markdown",
      "source": [
        "Please, check the number of trainable paramers:"
      ],
      "metadata": {
        "id": "8tIbIIeTEI41"
      }
    },
    {
      "cell_type": "code",
      "source": [
        "print(\"#trainable parameters:\",model.count_params())"
      ],
      "metadata": {
        "id": "xdBAG7EJETlX",
        "colab": {
          "base_uri": "https://localhost:8080/"
        },
        "outputId": "80f7acda-6e5f-40ec-d04c-abaeeb00289a"
      },
      "execution_count": 17,
      "outputs": [
        {
          "output_type": "stream",
          "name": "stdout",
          "text": [
            "#trainable parameters: 156586\n"
          ]
        }
      ]
    },
    {
      "cell_type": "code",
      "source": [
        "# training\n",
        "network_history = model.fit(X_train, Y_train, \n",
        "                            validation_data=(X_valid,Y_valid),\n",
        "                            batch_size=128,                             \n",
        "                            epochs=40, \n",
        "                            verbose=1, \n",
        "                            callbacks=[es])"
      ],
      "metadata": {
        "id": "u8tFNCNVHyt9",
        "colab": {
          "base_uri": "https://localhost:8080/"
        },
        "outputId": "b9085de1-be4b-4fb4-ba5d-9217396ac9bd"
      },
      "execution_count": 18,
      "outputs": [
        {
          "output_type": "stream",
          "name": "stdout",
          "text": [
            "Epoch 1/40\n",
            "313/313 [==============================] - 15s 10ms/step - loss: 1.7824 - accuracy: 0.3838 - val_loss: 1.4418 - val_accuracy: 0.4902\n",
            "Epoch 2/40\n",
            "313/313 [==============================] - 2s 8ms/step - loss: 1.3077 - accuracy: 0.5348 - val_loss: 1.1755 - val_accuracy: 0.5906\n",
            "Epoch 3/40\n",
            "313/313 [==============================] - 2s 8ms/step - loss: 1.1579 - accuracy: 0.5918 - val_loss: 1.1082 - val_accuracy: 0.6174\n",
            "Epoch 4/40\n",
            "313/313 [==============================] - 3s 8ms/step - loss: 1.0674 - accuracy: 0.6251 - val_loss: 0.9524 - val_accuracy: 0.6603\n",
            "Epoch 5/40\n",
            "313/313 [==============================] - 3s 9ms/step - loss: 1.0017 - accuracy: 0.6453 - val_loss: 0.9027 - val_accuracy: 0.6763\n",
            "Epoch 6/40\n",
            "313/313 [==============================] - 2s 7ms/step - loss: 0.9460 - accuracy: 0.6709 - val_loss: 0.8974 - val_accuracy: 0.6841\n",
            "Epoch 7/40\n",
            "313/313 [==============================] - 2s 8ms/step - loss: 0.9053 - accuracy: 0.6855 - val_loss: 0.8517 - val_accuracy: 0.7003\n",
            "Epoch 8/40\n",
            "313/313 [==============================] - 2s 7ms/step - loss: 0.8679 - accuracy: 0.6974 - val_loss: 0.8340 - val_accuracy: 0.7054\n",
            "Epoch 9/40\n",
            "313/313 [==============================] - 3s 9ms/step - loss: 0.8406 - accuracy: 0.7067 - val_loss: 0.8038 - val_accuracy: 0.7204\n",
            "Epoch 10/40\n",
            "313/313 [==============================] - 3s 9ms/step - loss: 0.8140 - accuracy: 0.7179 - val_loss: 0.8157 - val_accuracy: 0.7193\n",
            "Epoch 11/40\n",
            "313/313 [==============================] - 2s 8ms/step - loss: 0.7853 - accuracy: 0.7280 - val_loss: 0.8127 - val_accuracy: 0.7210\n",
            "Epoch 12/40\n",
            "313/313 [==============================] - 3s 8ms/step - loss: 0.7575 - accuracy: 0.7359 - val_loss: 0.7822 - val_accuracy: 0.7354\n",
            "Epoch 13/40\n",
            "313/313 [==============================] - 2s 8ms/step - loss: 0.7431 - accuracy: 0.7399 - val_loss: 0.7813 - val_accuracy: 0.7349\n",
            "Epoch 14/40\n",
            "313/313 [==============================] - 3s 10ms/step - loss: 0.7240 - accuracy: 0.7479 - val_loss: 0.7653 - val_accuracy: 0.7347\n",
            "Epoch 15/40\n",
            "313/313 [==============================] - 2s 8ms/step - loss: 0.7016 - accuracy: 0.7563 - val_loss: 0.7458 - val_accuracy: 0.7442\n",
            "Epoch 16/40\n",
            "313/313 [==============================] - 2s 8ms/step - loss: 0.6885 - accuracy: 0.7610 - val_loss: 0.7491 - val_accuracy: 0.7436\n",
            "Epoch 17/40\n",
            "313/313 [==============================] - 2s 7ms/step - loss: 0.6797 - accuracy: 0.7631 - val_loss: 0.7647 - val_accuracy: 0.7411\n",
            "Epoch 18/40\n",
            "313/313 [==============================] - 2s 7ms/step - loss: 0.6648 - accuracy: 0.7690 - val_loss: 0.7331 - val_accuracy: 0.7473\n",
            "Epoch 19/40\n",
            "313/313 [==============================] - 3s 9ms/step - loss: 0.6566 - accuracy: 0.7714 - val_loss: 0.7294 - val_accuracy: 0.7522\n",
            "Epoch 20/40\n",
            "313/313 [==============================] - 2s 8ms/step - loss: 0.6413 - accuracy: 0.7758 - val_loss: 0.7518 - val_accuracy: 0.7424\n",
            "Epoch 21/40\n",
            "313/313 [==============================] - 2s 7ms/step - loss: 0.6318 - accuracy: 0.7787 - val_loss: 0.7213 - val_accuracy: 0.7514\n",
            "Epoch 22/40\n",
            "313/313 [==============================] - 2s 7ms/step - loss: 0.6215 - accuracy: 0.7825 - val_loss: 0.7274 - val_accuracy: 0.7510\n",
            "Epoch 23/40\n",
            "313/313 [==============================] - 2s 7ms/step - loss: 0.6072 - accuracy: 0.7865 - val_loss: 0.7707 - val_accuracy: 0.7404\n",
            "Epoch 24/40\n",
            "313/313 [==============================] - 3s 9ms/step - loss: 0.6045 - accuracy: 0.7894 - val_loss: 0.7511 - val_accuracy: 0.7434\n",
            "Epoch 25/40\n",
            "313/313 [==============================] - 3s 8ms/step - loss: 0.5928 - accuracy: 0.7935 - val_loss: 0.7290 - val_accuracy: 0.7532\n",
            "Epoch 26/40\n",
            "313/313 [==============================] - 2s 7ms/step - loss: 0.5902 - accuracy: 0.7945 - val_loss: 0.7260 - val_accuracy: 0.7533\n",
            "Epoch 27/40\n",
            "313/313 [==============================] - 2s 8ms/step - loss: 0.5710 - accuracy: 0.7994 - val_loss: 0.7315 - val_accuracy: 0.7512\n",
            "Epoch 28/40\n",
            "313/313 [==============================] - 2s 7ms/step - loss: 0.5678 - accuracy: 0.8000 - val_loss: 0.7341 - val_accuracy: 0.7529\n",
            "Epoch 29/40\n",
            "313/313 [==============================] - 3s 8ms/step - loss: 0.5588 - accuracy: 0.8034 - val_loss: 0.7408 - val_accuracy: 0.7512\n",
            "Epoch 30/40\n",
            "313/313 [==============================] - 3s 8ms/step - loss: 0.5562 - accuracy: 0.8058 - val_loss: 0.7463 - val_accuracy: 0.7517\n",
            "Epoch 31/40\n",
            "313/313 [==============================] - 2s 7ms/step - loss: 0.5448 - accuracy: 0.8085 - val_loss: 0.7721 - val_accuracy: 0.7418\n",
            "Epoch 32/40\n",
            "313/313 [==============================] - 2s 8ms/step - loss: 0.5401 - accuracy: 0.8092 - val_loss: 0.7594 - val_accuracy: 0.7483\n",
            "Epoch 33/40\n",
            "313/313 [==============================] - 2s 7ms/step - loss: 0.5362 - accuracy: 0.8132 - val_loss: 0.7799 - val_accuracy: 0.7400\n",
            "Epoch 34/40\n",
            "313/313 [==============================] - 3s 9ms/step - loss: 0.5272 - accuracy: 0.8159 - val_loss: 0.7381 - val_accuracy: 0.7532\n",
            "Epoch 35/40\n",
            "313/313 [==============================] - 2s 8ms/step - loss: 0.5227 - accuracy: 0.8167 - val_loss: 0.7242 - val_accuracy: 0.7621\n",
            "Epoch 36/40\n",
            "313/313 [==============================] - 2s 8ms/step - loss: 0.5184 - accuracy: 0.8169 - val_loss: 0.7496 - val_accuracy: 0.7552\n",
            "Epoch 37/40\n",
            "313/313 [==============================] - 2s 8ms/step - loss: 0.5214 - accuracy: 0.8163 - val_loss: 0.7404 - val_accuracy: 0.7556\n",
            "Epoch 38/40\n",
            "313/313 [==============================] - 2s 8ms/step - loss: 0.5184 - accuracy: 0.8171 - val_loss: 0.7583 - val_accuracy: 0.7489\n",
            "Epoch 39/40\n",
            "313/313 [==============================] - 3s 10ms/step - loss: 0.5093 - accuracy: 0.8205 - val_loss: 0.7471 - val_accuracy: 0.7516\n",
            "Epoch 40/40\n",
            "313/313 [==============================] - 2s 8ms/step - loss: 0.4967 - accuracy: 0.8245 - val_loss: 0.7337 - val_accuracy: 0.7564\n"
          ]
        }
      ]
    },
    {
      "cell_type": "markdown",
      "source": [
        "# 3. Exercise: evaluation on test data\n",
        "You will evaluate the classification of the test data using the common metrics and the confusion matrix in this section. \n",
        "\n",
        "\n",
        "As a first stes, let's run the predictions and convert the predicted softmax outputs to dense labels. The one-hot encoded labels are also converted back to dense labels, as they are required for the evaluation functions."
      ],
      "metadata": {
        "id": "2FtKp-a2-A9m"
      }
    },
    {
      "cell_type": "code",
      "source": [
        "probas = model.predict(X_test)\n",
        "preds  = np.argmax(probas,axis=1)\n",
        "Y_test_dense = np.argmax(Y_test, axis=1) # get the original dense labels of the test data"
      ],
      "metadata": {
        "id": "EcWAqwlDMq3y",
        "colab": {
          "base_uri": "https://localhost:8080/"
        },
        "outputId": "af0794b1-d623-47b2-9c63-ef2b7b51c7d1"
      },
      "execution_count": 21,
      "outputs": [
        {
          "output_type": "stream",
          "name": "stdout",
          "text": [
            "313/313 [==============================] - 1s 2ms/step\n"
          ]
        }
      ]
    },
    {
      "cell_type": "markdown",
      "source": [
        "## 3.1. Exercise: Metrics\n",
        "please review the common classification metrics (accuracy, precision, recall, F1) for the complete model (not per class). \n",
        "\n",
        "Hints:\n",
        "* use macro averaging\n",
        "* you have to import the right functions from [sklearn.metrics](https://scikit-learn.org/stable/modules/model_evaluation.html)\n"
      ],
      "metadata": {
        "id": "RWJ-PH_iMs9K"
      }
    },
    {
      "cell_type": "code",
      "source": [
        "from sklearn.metrics import accuracy_score, precision_score, recall_score, f1_score"
      ],
      "metadata": {
        "id": "5sKm5zHSMZ_x"
      },
      "execution_count": 22,
      "outputs": []
    },
    {
      "cell_type": "code",
      "source": [
        "print(\"Accuracy:\",accuracy_score(Y_test_dense, preds))\n",
        "print(\"Precision:\",precision_score(Y_test_dense, preds, average='macro'))\n",
        "print(\"Recall:\",recall_score(Y_test_dense, preds, average='macro'))\n",
        "print(\"F1:\",f1_score(Y_test_dense, preds, average='macro'))"
      ],
      "metadata": {
        "id": "I3_9wgDREUna",
        "colab": {
          "base_uri": "https://localhost:8080/"
        },
        "outputId": "5525cb7e-c7a6-45ed-bdc5-feef9968a75e"
      },
      "execution_count": 23,
      "outputs": [
        {
          "output_type": "stream",
          "name": "stdout",
          "text": [
            "Accuracy: 0.7516\n",
            "Precision: 0.7494433062412761\n",
            "Recall: 0.7516\n",
            "F1: 0.7491689994358615\n"
          ]
        }
      ]
    },
    {
      "cell_type": "markdown",
      "source": [
        "\n",
        "## 3.2. Exercise: Confusion matrix\n",
        "Calculate the confusion matrix and display the results in a heatmap (with decimal values).\n",
        "\n",
        "Hints:\n",
        "* you have to do the imports this time too, e.g. from [sklearn.metrics](https://scikit-learn.org/stable/modules/model_evaluation.html) and the [heatmap function](https://seaborn.pydata.org/generated/seaborn.heatmap.html) of [seaborn](https://seaborn.pydata.org/)\n",
        "* for displaying the decimal values, you have to turn annot=True and define fmt='d' in the heatmap function of seaborn"
      ],
      "metadata": {
        "id": "ECHguBFtGL7f"
      }
    },
    {
      "cell_type": "code",
      "source": [
        "from sklearn.metrics import confusion_matrix\n",
        "import seaborn as sns"
      ],
      "metadata": {
        "id": "SIi2VzMBO3yD"
      },
      "execution_count": 24,
      "outputs": []
    },
    {
      "cell_type": "code",
      "metadata": {
        "id": "cdqODx92Svw7",
        "colab": {
          "base_uri": "https://localhost:8080/",
          "height": 392
        },
        "outputId": "4e327e36-9d54-4b65-eddd-1d24f3c0464d"
      },
      "source": [
        "conf = confusion_matrix(Y_test_dense, preds)\n",
        "plt.figure(figsize=(7,6))\n",
        "sns.heatmap(conf, annot=True, cmap='Blues', fmt='g')"
      ],
      "execution_count": 25,
      "outputs": [
        {
          "output_type": "execute_result",
          "data": {
            "text/plain": [
              "<Axes: >"
            ]
          },
          "metadata": {},
          "execution_count": 25
        },
        {
          "output_type": "display_data",
          "data": {
            "text/plain": [
              "<Figure size 504x432 with 2 Axes>"
            ],
            "image/png": "[encoded data removed]"
          },
          "metadata": {
            "needs_background": "light"
          }
        }
      ]
    }
  ]
}