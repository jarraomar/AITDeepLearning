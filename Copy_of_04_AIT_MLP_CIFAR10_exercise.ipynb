{
  "nbformat": 4,
  "nbformat_minor": 0,
  "metadata": {
    "anaconda-cloud": {},
    "kernelspec": {
      "display_name": "Python 3",
      "language": "python",
      "name": "python3"
    },
    "language_info": {
      "codemirror_mode": {
        "name": "ipython",
        "version": 3
      },
      "file_extension": ".py",
      "mimetype": "text/x-python",
      "name": "python",
      "nbconvert_exporter": "python",
      "pygments_lexer": "ipython3",
      "version": "3.6.6"
    },
    "colab": {
      "provenance": [],
      "include_colab_link": true
    },
    "accelerator": "GPU",
    "gpuClass": "standard"
  },
  "cells": [
    {
      "cell_type": "markdown",
      "metadata": {
        "id": "view-in-github",
        "colab_type": "text"
      },
      "source": [
        "<a href=\"https://colab.research.google.com/github/jarraomar/AITDeepLearning/blob/main/Copy_of_04_AIT_MLP_CIFAR10_exercise.ipynb\" target=\"_parent\"><img src=\"https://colab.research.google.com/assets/colab-badge.svg\" alt=\"Open In Colab\"/></a>"
      ]
    },
    {
      "cell_type": "markdown",
      "metadata": {
        "id": "cW-EyI5Lxpqi"
      },
      "source": [
        "# Copyright\n",
        "\n",
        "<PRE>\n",
        "Copyright (c) 2023 Bálint Gyires-Tóth - All Rights Reserved\n",
        "You may use and modify this code for research and development purpuses.\n",
        "Using this code for educational purposes (self-paced or instructor led) without the permission of the author is prohibited.\n",
        "</PRE>"
      ]
    },
    {
      "cell_type": "markdown",
      "source": [
        "# Example of data exploration, modeling, regulartion and prediction\n",
        "Our exercise today involves loading a standard dataset using TensorFlow Keras API, exploring the data, building a simple neural network, and evaluating the effects of basic methods (activation functions, regularization, weight initialization, etc.). We then perform predictions on the test set and inspect the results. "
      ],
      "metadata": {
        "id": "3EX4cCa4WKJu"
      }
    },
    {
      "cell_type": "markdown",
      "source": [
        "# 1. Data\n",
        "The dataset we will use is the well-known CIFAR10 (Canadian Institute For Advanced Research). Explore the details on the Keras website first: https://keras.io/api/datasets/cifar10/\n",
        "\n",
        "After you explored the basic features of the data, let's load it into the memory and explore the shapes:"
      ],
      "metadata": {
        "id": "yY9fztIeWIKt"
      }
    },
    {
      "cell_type": "code",
      "source": [
        "from tensorflow.keras.datasets import cifar10\n",
        "from tensorflow.keras.utils import to_categorical\n",
        "import numpy as np"
      ],
      "metadata": {
        "id": "giRZKTjzX_7l"
      },
      "execution_count": 1,
      "outputs": []
    },
    {
      "cell_type": "code",
      "source": [
        "(X_train, Y_train), (X_test, Y_test) = cifar10.load_data()"
      ],
      "metadata": {
        "id": "bez7q0eiWQCK",
        "colab": {
          "base_uri": "https://localhost:8080/"
        },
        "outputId": "24337ac3-56eb-4566-8c5e-59fe87811762"
      },
      "execution_count": 2,
      "outputs": [
        {
          "output_type": "stream",
          "name": "stdout",
          "text": [
            "Downloading data from https://www.cs.toronto.edu/~kriz/cifar-10-python.tar.gz\n",
            "170498071/170498071 [==============================] - 3s 0us/step\n"
          ]
        }
      ]
    },
    {
      "cell_type": "code",
      "source": [
        "print(X_train.shape)\n",
        "print(X_test.shape)\n",
        "print(Y_train.shape)\n",
        "print(Y_test.shape)"
      ],
      "metadata": {
        "id": "2tJoRq5wXywi",
        "colab": {
          "base_uri": "https://localhost:8080/"
        },
        "outputId": "0dbb9b58-a928-4a0a-9c26-aac9b63eac5b"
      },
      "execution_count": 3,
      "outputs": [
        {
          "output_type": "stream",
          "name": "stdout",
          "text": [
            "(50000, 32, 32, 3)\n",
            "(10000, 32, 32, 3)\n",
            "(50000, 1)\n",
            "(10000, 1)\n"
          ]
        }
      ]
    },
    {
      "cell_type": "markdown",
      "source": [
        "## 1.1. Exercise \n",
        "Display the first ten images of the training data. Hints:\n",
        "* Axis 0 refers to the separate images, e.g. X_train[0]\n",
        "* You can use the [Matplotlib Pyplot imshow function](https://matplotlib.org/stable/api/_as_gen/matplotlib.pyplot.imshow.html) for displaying the image. Just don't forget to import Plotly first!\n",
        "* A corresponding example, but you have to modify the code for your purpose: https://stackoverflow.com/questions/46615554/how-to-display-multiple-images-in-one-figure-correctly"
      ],
      "metadata": {
        "id": "zTCSGFyDlNvf"
      }
    },
    {
      "cell_type": "code",
      "source": [
        "import matplotlib.pyplot as plt\n",
        "\n",
        "fig=plt.figure()\n",
        "for i in range(0,9):\n",
        "  plt.imshow(X_train[i])\n",
        "  plt.show()"
      ],
      "metadata": {
        "id": "hIQhHTppmBdO",
        "colab": {
          "base_uri": "https://localhost:8080/",
          "height": 1000
        },
        "outputId": "86eb9b38-4404-4742-aa71-611c14141605"
      },
      "execution_count": 4,
      "outputs": [
        {
          "output_type": "display_data",
          "data": {
            "text/plain": [
              "<Figure size 432x288 with 1 Axes>"
            ],
            "image/png": "[encoded data removed]"
          },
          "metadata": {
            "needs_background": "light"
          }
        },
        {
          "output_type": "display_data",
          "data": {
            "text/plain": [
              "<Figure size 432x288 with 1 Axes>"
            ],
            "image/png": "[encoded data removed]"
          },
          "metadata": {
            "needs_background": "light"
          }
        },
        {
          "output_type": "display_data",
          "data": {
            "text/plain": [
              "<Figure size 432x288 with 1 Axes>"
            ],
            "image/png": "[encoded data removed]"
          },
          "metadata": {
            "needs_background": "light"
          }
        },
        {
          "output_type": "display_data",
          "data": {
            "text/plain": [
              "<Figure size 432x288 with 1 Axes>"
            ],
            "image/png": "[encoded data removed]"
          },
          "metadata": {
            "needs_background": "light"
          }
        },
        {
          "output_type": "display_data",
          "data": {
            "text/plain": [
              "<Figure size 432x288 with 1 Axes>"
            ],
            "image/png": "[encoded data removed]"
          },
          "metadata": {
            "needs_background": "light"
          }
        },
        {
          "output_type": "display_data",
          "data": {
            "text/plain": [
              "<Figure size 432x288 with 1 Axes>"
            ],
            "image/png": "[encoded data removed]"
          },
          "metadata": {
            "needs_background": "light"
          }
        },
        {
          "output_type": "display_data",
          "data": {
            "text/plain": [
              "<Figure size 432x288 with 1 Axes>"
            ],
            "image/png": "[encoded data removed]"
          },
          "metadata": {
            "needs_background": "light"
          }
        },
        {
          "output_type": "display_data",
          "data": {
            "text/plain": [
              "<Figure size 432x288 with 1 Axes>"
            ],
            "image/png": "[encoded data removed]"
          },
          "metadata": {
            "needs_background": "light"
          }
        },
        {
          "output_type": "display_data",
          "data": {
            "text/plain": [
              "<Figure size 432x288 with 1 Axes>"
            ],
            "image/png": "[encoded data removed]"
          },
          "metadata": {
            "needs_background": "light"
          }
        }
      ]
    },
    {
      "cell_type": "markdown",
      "source": [
        "Print the corresponding labels of the displayed images from the target variable (Y_train):"
      ],
      "metadata": {
        "id": "FAQkUWlmm-bc"
      }
    },
    {
      "cell_type": "code",
      "source": [
        "print(Y_train[:10])"
      ],
      "metadata": {
        "id": "AkOrWzghnJ78",
        "colab": {
          "base_uri": "https://localhost:8080/"
        },
        "outputId": "1d3e13f9-fd34-4f9a-c6dc-f5241ce80321"
      },
      "execution_count": 5,
      "outputs": [
        {
          "output_type": "stream",
          "name": "stdout",
          "text": [
            "[[6]\n",
            " [9]\n",
            " [9]\n",
            " [4]\n",
            " [1]\n",
            " [1]\n",
            " [2]\n",
            " [7]\n",
            " [8]\n",
            " [3]]\n"
          ]
        }
      ]
    },
    {
      "cell_type": "markdown",
      "source": [
        "## 1.2. Exercise\n",
        "We will train a Multi-Layer Perceptron (MLP), which requires a 2 dimensional input: 0th axis refers to the datapoints (i.e. images), the 1th dimens to the input. As images are 3 dimensional (width, height, color channels), you have to reshape the images into vectors. We also call this flattening. \n",
        "\n",
        "In order to do so, calculate the size of the equivalent 1D vector of the image:"
      ],
      "metadata": {
        "id": "VX24g5FstsRU"
      }
    },
    {
      "cell_type": "code",
      "source": [
        "flattened_dim = 3072"
      ],
      "metadata": {
        "id": "hdoMyxHzuXZG"
      },
      "execution_count": 6,
      "outputs": []
    },
    {
      "cell_type": "markdown",
      "source": [
        "After you calculated it, we can reshape the images, and covert the integer arrays into float arrays -- which are needed for the neural networks as input. Hint:\n",
        "* in the [reshape() function of Numpy](https://www.w3schools.com/python/numpy/numpy_array_reshape.asp) you can use -1 for one axis, to automatically calculate that value."
      ],
      "metadata": {
        "id": "WbqXJUSFubeC"
      }
    },
    {
      "cell_type": "code",
      "source": [
        "# reshape 3D tensors to 2D tensors\n",
        "X_train = X_train.reshape(-1, flattened_dim)\n",
        "X_test = X_test.reshape(-1, flattened_dim)\n",
        "\n",
        "# it is in int8 format, the neural network requires float32\n",
        "X_train = X_train.astype(np.float32)\n",
        "X_test = X_test.astype(np.float32)"
      ],
      "metadata": {
        "id": "vukOcBM0XzSj"
      },
      "execution_count": 7,
      "outputs": []
    },
    {
      "cell_type": "markdown",
      "source": [
        "## 1.3. Exercise\n",
        "As the next step, let's split the training data into training and validation data. 80% of the original training data should be the final training data, and 20% the validation.\n",
        "You should use Numpy indexing to select the first 80% of X_train as final X_train, and the last 20% as X_valid. Hints: \n",
        "* https://datascienceparichay.com/article/numpy-array-first-n-rows/\n",
        "* https://datascienceparichay.com/article/numpy-array-last-n-rows/"
      ],
      "metadata": {
        "id": "DO79AdIdvVfD"
      }
    },
    {
      "cell_type": "code",
      "source": [
        "train_ratio  = 0.8\n",
        "train_length = X_train.shape[0] # length of the training data\n",
        "train_split  = (int)(X_train.shape[0] * train_ratio) # where to split the training and validation data\n",
        "X_valid, Y_valid = X_train[train_split:], Y_train[train_split:]\n",
        "X_train, Y_train = X_train[:train_split], Y_train[:train_split]"
      ],
      "metadata": {
        "id": "mRwuWxxIxLgN"
      },
      "execution_count": 8,
      "outputs": []
    },
    {
      "cell_type": "markdown",
      "source": [
        "## 1.4. Exercise\n",
        "As the last step of input data preparation, the data should be standardized. Calculate the mean and variance of the training data (elementvise -- so for each value of the flattened image you should get a mean and variance for the training data along 0th axis). Hint: \n",
        "* https://stackoverflow.com/questions/70626231/how-to-calculate-mean-variance-standard-deviation-per-index-of-array"
      ],
      "metadata": {
        "id": "z05y_QWDxWER"
      }
    },
    {
      "cell_type": "code",
      "source": [
        "mean = np.mean(X_train, axis=0)\n",
        "std  = np.std(X_train, axis=0)"
      ],
      "metadata": {
        "id": "TSZbvWCBx8Ea"
      },
      "execution_count": 9,
      "outputs": []
    },
    {
      "cell_type": "markdown",
      "source": [
        "Next, use the resulting values to standardize the training, validation and test data by substracting the mean and dividing the result with the standard deviation."
      ],
      "metadata": {
        "id": "6WRHKkkjyN1S"
      }
    },
    {
      "cell_type": "code",
      "source": [
        "X_train = (X_train - mean) / std\n",
        "X_valid = (X_valid - mean) / std\n",
        "X_test  = (X_test - mean) / std"
      ],
      "metadata": {
        "id": "2ESLP1EIyB2J"
      },
      "execution_count": 10,
      "outputs": []
    },
    {
      "cell_type": "markdown",
      "source": [
        "## 1.5. Exercise\n",
        "And as the last step, convert the dense representation of the classes (i.e. 0,1,2,3...9) to one-hot encoding (0 = [1 0 0 0 0 0 0 0 0 0], 1 = [0 1 0 0 0 0 0 0 0 0] ... 9 = [0 0 0 0 0 0 0 0 0 1]). To do this, first, calculate the number of unique elements in the target training data. Hints:\n",
        "* use the [unique() function](https://numpy.org/doc/stable/reference/generated/numpy.unique.html) of Numpy to list the unique elements\n",
        "* you can count the number of elements in a list with the [len() function](https://www.w3schools.com/python/ref_func_len.asp)"
      ],
      "metadata": {
        "id": "ooHCnUin7r4o"
      }
    },
    {
      "cell_type": "code",
      "source": [
        "nb_classes = len(np.unique(Y_train, axis=0))"
      ],
      "metadata": {
        "id": "i0LAO9cs8KEE"
      },
      "execution_count": 11,
      "outputs": []
    },
    {
      "cell_type": "markdown",
      "source": [
        "Doublecheck, if the same number of classes exists in the validation and test target data:"
      ],
      "metadata": {
        "id": "BvM6XhGe8JU9"
      }
    },
    {
      "cell_type": "code",
      "source": [
        "print(\"Validation data has the same number of classes, as the training data:\", nb_classes == len(np.unique(Y_valid)))\n",
        "print(\"Test data has the same number of classes, as the training data:\", nb_classes == len(np.unique(Y_test)))"
      ],
      "metadata": {
        "id": "eZFNSsyx_Py2",
        "colab": {
          "base_uri": "https://localhost:8080/"
        },
        "outputId": "1aabcd2d-7ba0-4e50-f5bc-139af4e70e10"
      },
      "execution_count": 12,
      "outputs": [
        {
          "output_type": "stream",
          "name": "stdout",
          "text": [
            "Validation data has the same number of classes, as the training data: True\n",
            "Test data has the same number of classes, as the training data: True\n"
          ]
        }
      ]
    },
    {
      "cell_type": "markdown",
      "source": [
        "And convert the dense representation into one-hot encoding. Hint:\n",
        "* use the [to_categorical function](https://www.tensorflow.org/api_docs/python/tf/keras/utils/to_categorical) with the calculated nb_classes\n"
      ],
      "metadata": {
        "id": "mJM-iBmR8dLe"
      }
    },
    {
      "cell_type": "code",
      "source": [
        "Y_train = to_categorical(Y_train, num_classes=nb_classes, dtype='float32')\n",
        "Y_valid = to_categorical(Y_valid, num_classes=nb_classes, dtype='float32')\n",
        "Y_test  = to_categorical(Y_test, num_classes=nb_classes, dtype='float32')\n"
      ],
      "metadata": {
        "id": "xwZ4OJ6I8lba"
      },
      "execution_count": 13,
      "outputs": []
    },
    {
      "cell_type": "markdown",
      "source": [
        "## Final check of data preparation\n",
        "Now, lets check the shapes and mean and standard deviation of the training, validation and test data."
      ],
      "metadata": {
        "id": "LshN2OSsv3TZ"
      }
    },
    {
      "cell_type": "code",
      "source": [
        "print(\"Shapes of the training, validation and test input data:\", X_train.shape, X_valid.shape, X_test.shape)\n",
        "print(\"Shapes of the training, validation and test output data:\", Y_train.shape, Y_valid.shape, Y_test.shape)\n",
        "print(\"Mean values of the training, validation and test input data:\", X_train.mean(), X_valid.mean(), X_test.mean())\n",
        "print(\"Standard deviation of the training, validation and test input data:\", X_train.std(), X_valid.std(), X_test.std())"
      ],
      "metadata": {
        "id": "O_jdJVcvX0vi",
        "colab": {
          "base_uri": "https://localhost:8080/"
        },
        "outputId": "99d40e4c-925f-4239-f791-fe58df17a778"
      },
      "execution_count": 14,
      "outputs": [
        {
          "output_type": "stream",
          "name": "stdout",
          "text": [
            "Shapes of the training, validation and test input data: (40000, 3072) (10000, 3072) (10000, 3072)\n",
            "Shapes of the training, validation and test output data: (40000, 10) (10000, 10) (10000, 10)\n",
            "Mean values of the training, validation and test input data: -2.4725992e-09 0.0023437182 0.013331188\n",
            "Standard deviation of the training, validation and test input data: 1.0000038 0.99656224 0.9978297\n"
          ]
        }
      ]
    },
    {
      "cell_type": "markdown",
      "source": [
        "Don't worry, if the mean and standard deviation of the validation and test data are not exactly 0 and 1, but these might be very mear to it (e.g. 0.01 mean, 0.99 variance)."
      ],
      "metadata": {
        "id": "5GtAOOoezmZY"
      }
    },
    {
      "cell_type": "markdown",
      "metadata": {
        "id": "cJ14oyZExpqj"
      },
      "source": [
        "# 2. Training "
      ]
    },
    {
      "cell_type": "markdown",
      "metadata": {
        "id": "s4ZXYRMBxpql"
      },
      "source": [
        "Let us begin with a simple example of creating a small neural network without regularization and training it with actual data. The purpose of this is to provide you with an example as to how to proceed with the next exercise. "
      ]
    },
    {
      "cell_type": "code",
      "source": [
        "# imports \n",
        "import numpy as np\n",
        "import matplotlib.pyplot as plt\n",
        "from tensorflow.keras.models import Sequential\n",
        "from tensorflow.keras.layers import Dense, Embedding, Flatten, Dropout\n",
        "from tensorflow.keras.initializers import HeNormal, LecunUniform\n",
        "from tensorflow.keras.callbacks import EarlyStopping"
      ],
      "metadata": {
        "id": "6-8Q6ll7ZDgq"
      },
      "execution_count": 51,
      "outputs": []
    },
    {
      "cell_type": "code",
      "source": [
        "# model definition\n",
        "model = Sequential()\n",
        "model.add(Dense(128, activation='tanh', input_shape=(flattened_dim,)))\n",
        "model.add(Dense(128, activation='tanh'))\n",
        "model.add(Dense(nb_classes, activation='softmax'))\n",
        "\n",
        "# loss function and optimizer\n",
        "model.compile(loss='categorical_crossentropy', optimizer='adam', metrics=['accuracy'])"
      ],
      "metadata": {
        "id": "pke6w3CD8DHp"
      },
      "execution_count": null,
      "outputs": []
    },
    {
      "cell_type": "code",
      "metadata": {
        "id": "CZbOR76QxprC",
        "colab": {
          "base_uri": "https://localhost:8080/"
        },
        "outputId": "bcfd2264-cacc-442d-bb22-f0d76fad04fc"
      },
      "source": [
        "# training\n",
        "network_history = model.fit(X_train, Y_train, \n",
        "                            validation_data=(X_valid,Y_valid),\n",
        "                            batch_size=128,                             \n",
        "                            epochs=150, \n",
        "                            verbose=1)"
      ],
      "execution_count": null,
      "outputs": [
        {
          "output_type": "stream",
          "name": "stdout",
          "text": [
            "Epoch 1/150\n",
            "313/313 [==============================] - 2s 6ms/step - loss: 0.8837 - accuracy: 0.6964 - val_loss: 1.8422 - val_accuracy: 0.4392\n",
            "Epoch 2/150\n",
            "313/313 [==============================] - 1s 5ms/step - loss: 0.8670 - accuracy: 0.7016 - val_loss: 1.8487 - val_accuracy: 0.4456\n",
            "Epoch 3/150\n",
            "313/313 [==============================] - 1s 5ms/step - loss: 0.8564 - accuracy: 0.7079 - val_loss: 1.8590 - val_accuracy: 0.4377\n",
            "Epoch 4/150\n",
            "313/313 [==============================] - 2s 5ms/step - loss: 0.8510 - accuracy: 0.7096 - val_loss: 1.8712 - val_accuracy: 0.4394\n",
            "Epoch 5/150\n",
            "313/313 [==============================] - 1s 4ms/step - loss: 0.8252 - accuracy: 0.7189 - val_loss: 1.8863 - val_accuracy: 0.4431\n",
            "Epoch 6/150\n",
            "313/313 [==============================] - 2s 6ms/step - loss: 0.8195 - accuracy: 0.7197 - val_loss: 1.9101 - val_accuracy: 0.4417\n",
            "Epoch 7/150\n",
            "313/313 [==============================] - 2s 5ms/step - loss: 0.8255 - accuracy: 0.7181 - val_loss: 1.9293 - val_accuracy: 0.4399\n",
            "Epoch 8/150\n",
            "313/313 [==============================] - 1s 4ms/step - loss: 0.7995 - accuracy: 0.7265 - val_loss: 1.9280 - val_accuracy: 0.4393\n",
            "Epoch 9/150\n",
            "313/313 [==============================] - 1s 5ms/step - loss: 0.7822 - accuracy: 0.7347 - val_loss: 1.9401 - val_accuracy: 0.4356\n",
            "Epoch 10/150\n",
            "313/313 [==============================] - 1s 4ms/step - loss: 0.7805 - accuracy: 0.7316 - val_loss: 1.9692 - val_accuracy: 0.4381\n",
            "Epoch 11/150\n",
            "313/313 [==============================] - 2s 5ms/step - loss: 0.7682 - accuracy: 0.7372 - val_loss: 1.9612 - val_accuracy: 0.4419\n",
            "Epoch 12/150\n",
            "313/313 [==============================] - 1s 4ms/step - loss: 0.7513 - accuracy: 0.7472 - val_loss: 1.9884 - val_accuracy: 0.4379\n",
            "Epoch 13/150\n",
            "313/313 [==============================] - 1s 4ms/step - loss: 0.7353 - accuracy: 0.7505 - val_loss: 2.0003 - val_accuracy: 0.4429\n",
            "Epoch 14/150\n",
            "313/313 [==============================] - 2s 5ms/step - loss: 0.7276 - accuracy: 0.7540 - val_loss: 2.0187 - val_accuracy: 0.4438\n",
            "Epoch 15/150\n",
            "313/313 [==============================] - 2s 6ms/step - loss: 0.7183 - accuracy: 0.7560 - val_loss: 2.0285 - val_accuracy: 0.4352\n",
            "Epoch 16/150\n",
            "313/313 [==============================] - 1s 4ms/step - loss: 0.7074 - accuracy: 0.7630 - val_loss: 2.0492 - val_accuracy: 0.4378\n",
            "Epoch 17/150\n",
            "313/313 [==============================] - 1s 5ms/step - loss: 0.6960 - accuracy: 0.7657 - val_loss: 2.0706 - val_accuracy: 0.4334\n",
            "Epoch 18/150\n",
            "313/313 [==============================] - 1s 4ms/step - loss: 0.6957 - accuracy: 0.7645 - val_loss: 2.0763 - val_accuracy: 0.4402\n",
            "Epoch 19/150\n",
            "313/313 [==============================] - 1s 4ms/step - loss: 0.6848 - accuracy: 0.7704 - val_loss: 2.0867 - val_accuracy: 0.4391\n",
            "Epoch 20/150\n",
            "313/313 [==============================] - 1s 5ms/step - loss: 0.6634 - accuracy: 0.7770 - val_loss: 2.1169 - val_accuracy: 0.4367\n",
            "Epoch 21/150\n",
            "313/313 [==============================] - 1s 4ms/step - loss: 0.6609 - accuracy: 0.7754 - val_loss: 2.1428 - val_accuracy: 0.4341\n",
            "Epoch 22/150\n",
            "313/313 [==============================] - 2s 5ms/step - loss: 0.6409 - accuracy: 0.7855 - val_loss: 2.1346 - val_accuracy: 0.4397\n",
            "Epoch 23/150\n",
            "313/313 [==============================] - 2s 6ms/step - loss: 0.6363 - accuracy: 0.7847 - val_loss: 2.1518 - val_accuracy: 0.4344\n",
            "Epoch 24/150\n",
            "313/313 [==============================] - 1s 5ms/step - loss: 0.6340 - accuracy: 0.7881 - val_loss: 2.1643 - val_accuracy: 0.4316\n",
            "Epoch 25/150\n",
            "313/313 [==============================] - 1s 4ms/step - loss: 0.6298 - accuracy: 0.7873 - val_loss: 2.1771 - val_accuracy: 0.4379\n",
            "Epoch 26/150\n",
            "313/313 [==============================] - 1s 4ms/step - loss: 0.6197 - accuracy: 0.7891 - val_loss: 2.2079 - val_accuracy: 0.4339\n",
            "Epoch 27/150\n",
            "313/313 [==============================] - 1s 4ms/step - loss: 0.6083 - accuracy: 0.7944 - val_loss: 2.2177 - val_accuracy: 0.4300\n",
            "Epoch 28/150\n",
            "313/313 [==============================] - 1s 4ms/step - loss: 0.6040 - accuracy: 0.7974 - val_loss: 2.2385 - val_accuracy: 0.4298\n",
            "Epoch 29/150\n",
            "313/313 [==============================] - 1s 5ms/step - loss: 0.5872 - accuracy: 0.8015 - val_loss: 2.2780 - val_accuracy: 0.4275\n",
            "Epoch 30/150\n",
            "313/313 [==============================] - 1s 5ms/step - loss: 0.5923 - accuracy: 0.8001 - val_loss: 2.2606 - val_accuracy: 0.4315\n",
            "Epoch 31/150\n",
            "313/313 [==============================] - 2s 6ms/step - loss: 0.5793 - accuracy: 0.8058 - val_loss: 2.2924 - val_accuracy: 0.4278\n",
            "Epoch 32/150\n",
            "313/313 [==============================] - 1s 4ms/step - loss: 0.5767 - accuracy: 0.8059 - val_loss: 2.2778 - val_accuracy: 0.4352\n",
            "Epoch 33/150\n",
            "313/313 [==============================] - 1s 5ms/step - loss: 0.5668 - accuracy: 0.8091 - val_loss: 2.3086 - val_accuracy: 0.4281\n",
            "Epoch 34/150\n",
            "313/313 [==============================] - 1s 4ms/step - loss: 0.5613 - accuracy: 0.8111 - val_loss: 2.3319 - val_accuracy: 0.4322\n",
            "Epoch 35/150\n",
            "313/313 [==============================] - 1s 4ms/step - loss: 0.5546 - accuracy: 0.8139 - val_loss: 2.3382 - val_accuracy: 0.4298\n",
            "Epoch 36/150\n",
            "313/313 [==============================] - 1s 4ms/step - loss: 0.5396 - accuracy: 0.8207 - val_loss: 2.3486 - val_accuracy: 0.4317\n",
            "Epoch 37/150\n",
            "313/313 [==============================] - 1s 5ms/step - loss: 0.5387 - accuracy: 0.8180 - val_loss: 2.3738 - val_accuracy: 0.4341\n",
            "Epoch 38/150\n",
            "313/313 [==============================] - 1s 4ms/step - loss: 0.5395 - accuracy: 0.8194 - val_loss: 2.3940 - val_accuracy: 0.4277\n",
            "Epoch 39/150\n",
            "313/313 [==============================] - 2s 6ms/step - loss: 0.5308 - accuracy: 0.8223 - val_loss: 2.4156 - val_accuracy: 0.4264\n",
            "Epoch 40/150\n",
            "313/313 [==============================] - 2s 5ms/step - loss: 0.5235 - accuracy: 0.8241 - val_loss: 2.4364 - val_accuracy: 0.4310\n",
            "Epoch 41/150\n",
            "313/313 [==============================] - 1s 4ms/step - loss: 0.5076 - accuracy: 0.8293 - val_loss: 2.4617 - val_accuracy: 0.4260\n",
            "Epoch 42/150\n",
            "313/313 [==============================] - 1s 5ms/step - loss: 0.5199 - accuracy: 0.8245 - val_loss: 2.4545 - val_accuracy: 0.4308\n",
            "Epoch 43/150\n",
            "313/313 [==============================] - 1s 5ms/step - loss: 0.5116 - accuracy: 0.8282 - val_loss: 2.4803 - val_accuracy: 0.4251\n",
            "Epoch 44/150\n",
            "313/313 [==============================] - 1s 4ms/step - loss: 0.4996 - accuracy: 0.8338 - val_loss: 2.5001 - val_accuracy: 0.4208\n",
            "Epoch 45/150\n",
            "313/313 [==============================] - 1s 4ms/step - loss: 0.4847 - accuracy: 0.8395 - val_loss: 2.4977 - val_accuracy: 0.4259\n",
            "Epoch 46/150\n",
            "313/313 [==============================] - 1s 5ms/step - loss: 0.4913 - accuracy: 0.8364 - val_loss: 2.5118 - val_accuracy: 0.4227\n",
            "Epoch 47/150\n",
            "313/313 [==============================] - 2s 6ms/step - loss: 0.4711 - accuracy: 0.8443 - val_loss: 2.5316 - val_accuracy: 0.4239\n",
            "Epoch 48/150\n",
            "313/313 [==============================] - 2s 5ms/step - loss: 0.4726 - accuracy: 0.8431 - val_loss: 2.5665 - val_accuracy: 0.4211\n",
            "Epoch 49/150\n",
            "313/313 [==============================] - 1s 4ms/step - loss: 0.4956 - accuracy: 0.8340 - val_loss: 2.5765 - val_accuracy: 0.4182\n",
            "Epoch 50/150\n",
            "313/313 [==============================] - 1s 4ms/step - loss: 0.4837 - accuracy: 0.8356 - val_loss: 2.5886 - val_accuracy: 0.4186\n",
            "Epoch 51/150\n",
            "313/313 [==============================] - 1s 5ms/step - loss: 0.4477 - accuracy: 0.8511 - val_loss: 2.6023 - val_accuracy: 0.4203\n",
            "Epoch 52/150\n",
            "313/313 [==============================] - 1s 4ms/step - loss: 0.4594 - accuracy: 0.8484 - val_loss: 2.6152 - val_accuracy: 0.4246\n",
            "Epoch 53/150\n",
            "313/313 [==============================] - 1s 4ms/step - loss: 0.4477 - accuracy: 0.8504 - val_loss: 2.6427 - val_accuracy: 0.4214\n",
            "Epoch 54/150\n",
            "313/313 [==============================] - 2s 5ms/step - loss: 0.4494 - accuracy: 0.8486 - val_loss: 2.6202 - val_accuracy: 0.4212\n",
            "Epoch 55/150\n",
            "313/313 [==============================] - 2s 5ms/step - loss: 0.4441 - accuracy: 0.8526 - val_loss: 2.6622 - val_accuracy: 0.4241\n",
            "Epoch 56/150\n",
            "313/313 [==============================] - 2s 6ms/step - loss: 0.4413 - accuracy: 0.8537 - val_loss: 2.6798 - val_accuracy: 0.4250\n",
            "Epoch 57/150\n",
            "313/313 [==============================] - 1s 4ms/step - loss: 0.4423 - accuracy: 0.8518 - val_loss: 2.7119 - val_accuracy: 0.4140\n",
            "Epoch 58/150\n",
            "313/313 [==============================] - 1s 5ms/step - loss: 0.4294 - accuracy: 0.8568 - val_loss: 2.7127 - val_accuracy: 0.4211\n",
            "Epoch 59/150\n",
            "313/313 [==============================] - 1s 4ms/step - loss: 0.4412 - accuracy: 0.8516 - val_loss: 2.7143 - val_accuracy: 0.4146\n",
            "Epoch 60/150\n",
            "313/313 [==============================] - 1s 4ms/step - loss: 0.4248 - accuracy: 0.8574 - val_loss: 2.7428 - val_accuracy: 0.4168\n",
            "Epoch 61/150\n",
            "313/313 [==============================] - 2s 5ms/step - loss: 0.4351 - accuracy: 0.8524 - val_loss: 2.7491 - val_accuracy: 0.4148\n",
            "Epoch 62/150\n",
            "313/313 [==============================] - 1s 5ms/step - loss: 0.4186 - accuracy: 0.8590 - val_loss: 2.7566 - val_accuracy: 0.4204\n",
            "Epoch 63/150\n",
            "313/313 [==============================] - 2s 5ms/step - loss: 0.4229 - accuracy: 0.8585 - val_loss: 2.7507 - val_accuracy: 0.4220\n",
            "Epoch 64/150\n",
            "313/313 [==============================] - 2s 7ms/step - loss: 0.4037 - accuracy: 0.8640 - val_loss: 2.7997 - val_accuracy: 0.4104\n",
            "Epoch 65/150\n",
            "313/313 [==============================] - 2s 6ms/step - loss: 0.4281 - accuracy: 0.8576 - val_loss: 2.8113 - val_accuracy: 0.4133\n",
            "Epoch 66/150\n",
            "313/313 [==============================] - 1s 5ms/step - loss: 0.4075 - accuracy: 0.8629 - val_loss: 2.7975 - val_accuracy: 0.4213\n",
            "Epoch 67/150\n",
            "313/313 [==============================] - 1s 4ms/step - loss: 0.3886 - accuracy: 0.8704 - val_loss: 2.8230 - val_accuracy: 0.4198\n",
            "Epoch 68/150\n",
            "313/313 [==============================] - 1s 5ms/step - loss: 0.4057 - accuracy: 0.8643 - val_loss: 2.8438 - val_accuracy: 0.4130\n",
            "Epoch 69/150\n",
            "313/313 [==============================] - 2s 5ms/step - loss: 0.3993 - accuracy: 0.8679 - val_loss: 2.8570 - val_accuracy: 0.4182\n",
            "Epoch 70/150\n",
            "313/313 [==============================] - 1s 4ms/step - loss: 0.3896 - accuracy: 0.8665 - val_loss: 2.8596 - val_accuracy: 0.4227\n",
            "Epoch 71/150\n",
            "313/313 [==============================] - 2s 6ms/step - loss: 0.4027 - accuracy: 0.8648 - val_loss: 2.9017 - val_accuracy: 0.4217\n",
            "Epoch 72/150\n",
            "313/313 [==============================] - 2s 6ms/step - loss: 0.4055 - accuracy: 0.8631 - val_loss: 2.9011 - val_accuracy: 0.4161\n",
            "Epoch 73/150\n",
            "313/313 [==============================] - 1s 5ms/step - loss: 0.3786 - accuracy: 0.8742 - val_loss: 2.9104 - val_accuracy: 0.4178\n",
            "Epoch 74/150\n",
            "313/313 [==============================] - 1s 4ms/step - loss: 0.3807 - accuracy: 0.8721 - val_loss: 2.9177 - val_accuracy: 0.4115\n",
            "Epoch 75/150\n",
            "313/313 [==============================] - 2s 5ms/step - loss: 0.3602 - accuracy: 0.8797 - val_loss: 2.9478 - val_accuracy: 0.4109\n",
            "Epoch 76/150\n",
            "313/313 [==============================] - 1s 5ms/step - loss: 0.3706 - accuracy: 0.8767 - val_loss: 2.9416 - val_accuracy: 0.4174\n",
            "Epoch 77/150\n",
            "313/313 [==============================] - 1s 4ms/step - loss: 0.3901 - accuracy: 0.8689 - val_loss: 2.9376 - val_accuracy: 0.4172\n",
            "Epoch 78/150\n",
            "313/313 [==============================] - 1s 5ms/step - loss: 0.3663 - accuracy: 0.8787 - val_loss: 2.9470 - val_accuracy: 0.4136\n",
            "Epoch 79/150\n",
            "313/313 [==============================] - 2s 5ms/step - loss: 0.3734 - accuracy: 0.8745 - val_loss: 2.9592 - val_accuracy: 0.4146\n",
            "Epoch 80/150\n",
            "313/313 [==============================] - 2s 5ms/step - loss: 0.3684 - accuracy: 0.8774 - val_loss: 2.9764 - val_accuracy: 0.4123\n",
            "Epoch 81/150\n",
            "313/313 [==============================] - 1s 4ms/step - loss: 0.3986 - accuracy: 0.8658 - val_loss: 2.9851 - val_accuracy: 0.4127\n",
            "Epoch 82/150\n",
            "313/313 [==============================] - 2s 5ms/step - loss: 0.3546 - accuracy: 0.8827 - val_loss: 3.0166 - val_accuracy: 0.4166\n",
            "Epoch 83/150\n",
            "313/313 [==============================] - 1s 4ms/step - loss: 0.3464 - accuracy: 0.8863 - val_loss: 3.0455 - val_accuracy: 0.4160\n",
            "Epoch 84/150\n",
            "313/313 [==============================] - 1s 5ms/step - loss: 0.3728 - accuracy: 0.8755 - val_loss: 3.0169 - val_accuracy: 0.4200\n",
            "Epoch 85/150\n",
            "313/313 [==============================] - 1s 5ms/step - loss: 0.3593 - accuracy: 0.8793 - val_loss: 3.0436 - val_accuracy: 0.4101\n",
            "Epoch 86/150\n",
            "313/313 [==============================] - 1s 4ms/step - loss: 0.3514 - accuracy: 0.8854 - val_loss: 3.0620 - val_accuracy: 0.4159\n",
            "Epoch 87/150\n",
            "313/313 [==============================] - 2s 5ms/step - loss: 0.3577 - accuracy: 0.8808 - val_loss: 3.0657 - val_accuracy: 0.4188\n",
            "Epoch 88/150\n",
            "313/313 [==============================] - 2s 6ms/step - loss: 0.3409 - accuracy: 0.8880 - val_loss: 3.0559 - val_accuracy: 0.4150\n",
            "Epoch 89/150\n",
            "313/313 [==============================] - 1s 5ms/step - loss: 0.3421 - accuracy: 0.8852 - val_loss: 3.1018 - val_accuracy: 0.4140\n",
            "Epoch 90/150\n",
            "313/313 [==============================] - 1s 5ms/step - loss: 0.3448 - accuracy: 0.8844 - val_loss: 3.1308 - val_accuracy: 0.4084\n",
            "Epoch 91/150\n",
            "313/313 [==============================] - 1s 4ms/step - loss: 0.3329 - accuracy: 0.8891 - val_loss: 3.1351 - val_accuracy: 0.4185\n",
            "Epoch 92/150\n",
            "313/313 [==============================] - 1s 5ms/step - loss: 0.3384 - accuracy: 0.8868 - val_loss: 3.1499 - val_accuracy: 0.4067\n",
            "Epoch 93/150\n",
            "313/313 [==============================] - 1s 5ms/step - loss: 0.3299 - accuracy: 0.8903 - val_loss: 3.1635 - val_accuracy: 0.4085\n",
            "Epoch 94/150\n",
            "313/313 [==============================] - 1s 4ms/step - loss: 0.3682 - accuracy: 0.8761 - val_loss: 3.1599 - val_accuracy: 0.4151\n",
            "Epoch 95/150\n",
            "313/313 [==============================] - 2s 5ms/step - loss: 0.3314 - accuracy: 0.8891 - val_loss: 3.1225 - val_accuracy: 0.4124\n",
            "Epoch 96/150\n",
            "313/313 [==============================] - 2s 6ms/step - loss: 0.3348 - accuracy: 0.8888 - val_loss: 3.1657 - val_accuracy: 0.4145\n",
            "Epoch 97/150\n",
            "313/313 [==============================] - 1s 4ms/step - loss: 0.3432 - accuracy: 0.8838 - val_loss: 3.1724 - val_accuracy: 0.4190\n",
            "Epoch 98/150\n",
            "313/313 [==============================] - 1s 4ms/step - loss: 0.3250 - accuracy: 0.8914 - val_loss: 3.1831 - val_accuracy: 0.4141\n",
            "Epoch 99/150\n",
            "313/313 [==============================] - 1s 4ms/step - loss: 0.3246 - accuracy: 0.8911 - val_loss: 3.1997 - val_accuracy: 0.4167\n",
            "Epoch 100/150\n",
            "313/313 [==============================] - 1s 5ms/step - loss: 0.3147 - accuracy: 0.8952 - val_loss: 3.2029 - val_accuracy: 0.4132\n",
            "Epoch 101/150\n",
            "313/313 [==============================] - 1s 4ms/step - loss: 0.3214 - accuracy: 0.8925 - val_loss: 3.2505 - val_accuracy: 0.4153\n",
            "Epoch 102/150\n",
            "313/313 [==============================] - 1s 5ms/step - loss: 0.3308 - accuracy: 0.8905 - val_loss: 3.2208 - val_accuracy: 0.4185\n",
            "Epoch 103/150\n",
            "313/313 [==============================] - 2s 5ms/step - loss: 0.3168 - accuracy: 0.8942 - val_loss: 3.2241 - val_accuracy: 0.4144\n",
            "Epoch 104/150\n",
            "313/313 [==============================] - 2s 6ms/step - loss: 0.3160 - accuracy: 0.8938 - val_loss: 3.2631 - val_accuracy: 0.4135\n",
            "Epoch 105/150\n",
            "313/313 [==============================] - 1s 5ms/step - loss: 0.3190 - accuracy: 0.8948 - val_loss: 3.2780 - val_accuracy: 0.4120\n",
            "Epoch 106/150\n",
            "313/313 [==============================] - 1s 4ms/step - loss: 0.3098 - accuracy: 0.8963 - val_loss: 3.3194 - val_accuracy: 0.4065\n",
            "Epoch 107/150\n",
            "313/313 [==============================] - 1s 5ms/step - loss: 0.3409 - accuracy: 0.8861 - val_loss: 3.2821 - val_accuracy: 0.4127\n",
            "Epoch 108/150\n",
            "313/313 [==============================] - 2s 5ms/step - loss: 0.3193 - accuracy: 0.8921 - val_loss: 3.2875 - val_accuracy: 0.4094\n",
            "Epoch 109/150\n",
            "313/313 [==============================] - 2s 5ms/step - loss: 0.3024 - accuracy: 0.8989 - val_loss: 3.2942 - val_accuracy: 0.4125\n",
            "Epoch 110/150\n",
            "313/313 [==============================] - 1s 4ms/step - loss: 0.3174 - accuracy: 0.8931 - val_loss: 3.3110 - val_accuracy: 0.4139\n",
            "Epoch 111/150\n",
            "313/313 [==============================] - 2s 5ms/step - loss: 0.3084 - accuracy: 0.8983 - val_loss: 3.3317 - val_accuracy: 0.4106\n",
            "Epoch 112/150\n",
            "313/313 [==============================] - 2s 7ms/step - loss: 0.3039 - accuracy: 0.8982 - val_loss: 3.3352 - val_accuracy: 0.4141\n",
            "Epoch 113/150\n",
            "313/313 [==============================] - 2s 5ms/step - loss: 0.3028 - accuracy: 0.8975 - val_loss: 3.3157 - val_accuracy: 0.4138\n",
            "Epoch 114/150\n",
            "313/313 [==============================] - 1s 4ms/step - loss: 0.2808 - accuracy: 0.9055 - val_loss: 3.3533 - val_accuracy: 0.4137\n",
            "Epoch 115/150\n",
            "313/313 [==============================] - 1s 5ms/step - loss: 0.2796 - accuracy: 0.9072 - val_loss: 3.3723 - val_accuracy: 0.4096\n",
            "Epoch 116/150\n",
            "313/313 [==============================] - 1s 5ms/step - loss: 0.2832 - accuracy: 0.9061 - val_loss: 3.3546 - val_accuracy: 0.4148\n",
            "Epoch 117/150\n",
            "313/313 [==============================] - 2s 5ms/step - loss: 0.3141 - accuracy: 0.8950 - val_loss: 3.3642 - val_accuracy: 0.4112\n",
            "Epoch 118/150\n",
            "313/313 [==============================] - 1s 5ms/step - loss: 0.2837 - accuracy: 0.9054 - val_loss: 3.3685 - val_accuracy: 0.4074\n",
            "Epoch 119/150\n",
            "313/313 [==============================] - 2s 5ms/step - loss: 0.2782 - accuracy: 0.9073 - val_loss: 3.4336 - val_accuracy: 0.4095\n",
            "Epoch 120/150\n",
            "313/313 [==============================] - 2s 6ms/step - loss: 0.3084 - accuracy: 0.8964 - val_loss: 3.4083 - val_accuracy: 0.4107\n",
            "Epoch 121/150\n",
            "313/313 [==============================] - 1s 4ms/step - loss: 0.3060 - accuracy: 0.8979 - val_loss: 3.4136 - val_accuracy: 0.4111\n",
            "Epoch 122/150\n",
            "313/313 [==============================] - 1s 5ms/step - loss: 0.3269 - accuracy: 0.8906 - val_loss: 3.4170 - val_accuracy: 0.4097\n",
            "Epoch 123/150\n",
            "313/313 [==============================] - 1s 5ms/step - loss: 0.2867 - accuracy: 0.9054 - val_loss: 3.4353 - val_accuracy: 0.4112\n",
            "Epoch 124/150\n",
            "313/313 [==============================] - 1s 5ms/step - loss: 0.2858 - accuracy: 0.9062 - val_loss: 3.4222 - val_accuracy: 0.4113\n",
            "Epoch 125/150\n",
            "313/313 [==============================] - 1s 4ms/step - loss: 0.2871 - accuracy: 0.9052 - val_loss: 3.4768 - val_accuracy: 0.4120\n",
            "Epoch 126/150\n",
            "313/313 [==============================] - 1s 5ms/step - loss: 0.2572 - accuracy: 0.9153 - val_loss: 3.4639 - val_accuracy: 0.4142\n",
            "Epoch 127/150\n",
            "313/313 [==============================] - 1s 5ms/step - loss: 0.2676 - accuracy: 0.9109 - val_loss: 3.4723 - val_accuracy: 0.4103\n",
            "Epoch 128/150\n",
            "313/313 [==============================] - 2s 6ms/step - loss: 0.2755 - accuracy: 0.9066 - val_loss: 3.4730 - val_accuracy: 0.4108\n",
            "Epoch 129/150\n",
            "313/313 [==============================] - 1s 4ms/step - loss: 0.2861 - accuracy: 0.9028 - val_loss: 3.5062 - val_accuracy: 0.4018\n",
            "Epoch 130/150\n",
            "313/313 [==============================] - 2s 5ms/step - loss: 0.3039 - accuracy: 0.8976 - val_loss: 3.4950 - val_accuracy: 0.4109\n",
            "Epoch 131/150\n",
            "313/313 [==============================] - 1s 4ms/step - loss: 0.2825 - accuracy: 0.9054 - val_loss: 3.5078 - val_accuracy: 0.4129\n",
            "Epoch 132/150\n",
            "313/313 [==============================] - 1s 4ms/step - loss: 0.2759 - accuracy: 0.9081 - val_loss: 3.5077 - val_accuracy: 0.4121\n",
            "Epoch 133/150\n",
            "313/313 [==============================] - 1s 5ms/step - loss: 0.2774 - accuracy: 0.9079 - val_loss: 3.5300 - val_accuracy: 0.4114\n",
            "Epoch 134/150\n",
            "313/313 [==============================] - 1s 4ms/step - loss: 0.2684 - accuracy: 0.9103 - val_loss: 3.5401 - val_accuracy: 0.4097\n",
            "Epoch 135/150\n",
            "313/313 [==============================] - 1s 5ms/step - loss: 0.2677 - accuracy: 0.9102 - val_loss: 3.5546 - val_accuracy: 0.4093\n",
            "Epoch 136/150\n",
            "313/313 [==============================] - 2s 6ms/step - loss: 0.2826 - accuracy: 0.9042 - val_loss: 3.5719 - val_accuracy: 0.4051\n",
            "Epoch 137/150\n",
            "313/313 [==============================] - 2s 5ms/step - loss: 0.2771 - accuracy: 0.9093 - val_loss: 3.5610 - val_accuracy: 0.4011\n",
            "Epoch 138/150\n",
            "313/313 [==============================] - 1s 5ms/step - loss: 0.2805 - accuracy: 0.9064 - val_loss: 3.5631 - val_accuracy: 0.4098\n",
            "Epoch 139/150\n",
            "313/313 [==============================] - 1s 5ms/step - loss: 0.2726 - accuracy: 0.9089 - val_loss: 3.5665 - val_accuracy: 0.4059\n",
            "Epoch 140/150\n",
            "313/313 [==============================] - 1s 5ms/step - loss: 0.2809 - accuracy: 0.9051 - val_loss: 3.5662 - val_accuracy: 0.4086\n",
            "Epoch 141/150\n",
            "313/313 [==============================] - 1s 4ms/step - loss: 0.2723 - accuracy: 0.9075 - val_loss: 3.5612 - val_accuracy: 0.4035\n",
            "Epoch 142/150\n",
            "313/313 [==============================] - 1s 4ms/step - loss: 0.2761 - accuracy: 0.9069 - val_loss: 3.6002 - val_accuracy: 0.4076\n",
            "Epoch 143/150\n",
            "313/313 [==============================] - 1s 4ms/step - loss: 0.2607 - accuracy: 0.9125 - val_loss: 3.6178 - val_accuracy: 0.4098\n",
            "Epoch 144/150\n",
            "313/313 [==============================] - 2s 6ms/step - loss: 0.2694 - accuracy: 0.9115 - val_loss: 3.6147 - val_accuracy: 0.4049\n",
            "Epoch 145/150\n",
            "313/313 [==============================] - 2s 5ms/step - loss: 0.2405 - accuracy: 0.9201 - val_loss: 3.5948 - val_accuracy: 0.4054\n",
            "Epoch 146/150\n",
            "313/313 [==============================] - 1s 4ms/step - loss: 0.2451 - accuracy: 0.9189 - val_loss: 3.6450 - val_accuracy: 0.4063\n",
            "Epoch 147/150\n",
            "313/313 [==============================] - 2s 5ms/step - loss: 0.2612 - accuracy: 0.9118 - val_loss: 3.6415 - val_accuracy: 0.4049\n",
            "Epoch 148/150\n",
            "313/313 [==============================] - 1s 5ms/step - loss: 0.2686 - accuracy: 0.9086 - val_loss: 3.6648 - val_accuracy: 0.4050\n",
            "Epoch 149/150\n",
            "313/313 [==============================] - 1s 4ms/step - loss: 0.2471 - accuracy: 0.9182 - val_loss: 3.6965 - val_accuracy: 0.4072\n",
            "Epoch 150/150\n",
            "313/313 [==============================] - 1s 5ms/step - loss: 0.2582 - accuracy: 0.9142 - val_loss: 3.6667 - val_accuracy: 0.4099\n"
          ]
        }
      ]
    },
    {
      "cell_type": "markdown",
      "metadata": {
        "id": "uFqhzV85xprJ"
      },
      "source": [
        "Let's plot the training and validation loss and accuracy curves:"
      ]
    },
    {
      "cell_type": "code",
      "metadata": {
        "id": "BYmXGkLCxprK",
        "colab": {
          "base_uri": "https://localhost:8080/",
          "height": 541
        },
        "outputId": "48c626ae-15f6-4a6c-ff8a-0196652fbd14"
      },
      "source": [
        "def plot_history(network_history):\n",
        "    plt.figure()\n",
        "    plt.xlabel('Epochs')\n",
        "    plt.ylabel('Loss')\n",
        "    plt.plot(network_history.history['loss'])\n",
        "    plt.plot(network_history.history['val_loss'])\n",
        "    plt.legend(['Training', 'Validation'])\n",
        "\n",
        "    plt.figure()\n",
        "    plt.xlabel('Epochs')\n",
        "    plt.ylabel('Accuracy')\n",
        "    plt.plot(network_history.history['accuracy'])\n",
        "    plt.plot(network_history.history['val_accuracy'])\n",
        "    plt.legend(['Training', 'Validation'], loc='lower right')\n",
        "    plt.show()\n",
        "\n",
        "plot_history(network_history)"
      ],
      "execution_count": null,
      "outputs": [
        {
          "output_type": "display_data",
          "data": {
            "text/plain": [
              "<Figure size 432x288 with 1 Axes>"
            ],
            "image/png": "[encoded data removed]"
          },
          "metadata": {
            "needs_background": "light"
          }
        },
        {
          "output_type": "display_data",
          "data": {
            "text/plain": [
              "<Figure size 432x288 with 1 Axes>"
            ],
            "image/png": "[encoded data removed]"
          },
          "metadata": {
            "needs_background": "light"
          }
        }
      ]
    },
    {
      "cell_type": "markdown",
      "source": [
        "What do you think? Does it overfit? "
      ],
      "metadata": {
        "id": "tgG7QeXF-dx6"
      }
    },
    {
      "cell_type": "markdown",
      "metadata": {
        "id": "_Q9rIeBBxprO"
      },
      "source": [
        "# Inspecting the model"
      ]
    },
    {
      "cell_type": "code",
      "metadata": {
        "id": "6r2AmmoMxprP",
        "colab": {
          "base_uri": "https://localhost:8080/"
        },
        "outputId": "9aa6a380-8c41-4e81-83e3-cac0162653d2"
      },
      "source": [
        "model.summary()"
      ],
      "execution_count": null,
      "outputs": [
        {
          "output_type": "stream",
          "name": "stdout",
          "text": [
            "Model: \"sequential\"\n",
            "_________________________________________________________________\n",
            " Layer (type)                Output Shape              Param #   \n",
            "=================================================================\n",
            " dense (Dense)               (None, 128)               393344    \n",
            "                                                                 \n",
            " dense_1 (Dense)             (None, 128)               16512     \n",
            "                                                                 \n",
            " dense_2 (Dense)             (None, 10)                1290      \n",
            "                                                                 \n",
            "=================================================================\n",
            "Total params: 411,146\n",
            "Trainable params: 411,146\n",
            "Non-trainable params: 0\n",
            "_________________________________________________________________\n"
          ]
        }
      ]
    },
    {
      "cell_type": "code",
      "metadata": {
        "id": "D3-bVDVuxprS",
        "colab": {
          "base_uri": "https://localhost:8080/"
        },
        "outputId": "b96d4588-8375-425a-c0fe-0e0041a7e5a8"
      },
      "source": [
        "print('Input: ', model.input)"
      ],
      "execution_count": null,
      "outputs": [
        {
          "output_type": "stream",
          "name": "stdout",
          "text": [
            "Input:  KerasTensor(type_spec=TensorSpec(shape=(None, 3072), dtype=tf.float32, name='dense_input'), name='dense_input', description=\"created by layer 'dense_input'\")\n"
          ]
        }
      ]
    },
    {
      "cell_type": "code",
      "metadata": {
        "id": "Da2OJ3DmxprX",
        "colab": {
          "base_uri": "https://localhost:8080/"
        },
        "outputId": "da19e1f3-8107-4913-f8df-3e3a4968507c"
      },
      "source": [
        "print('Layers:\\n')\n",
        "for layer in model.layers:\n",
        "    print(\"Layer's name: \", layer.name, ', trainable: ', layer.trainable)\n",
        "    print(layer.get_config(),'\\n')"
      ],
      "execution_count": null,
      "outputs": [
        {
          "output_type": "stream",
          "name": "stdout",
          "text": [
            "Layers:\n",
            "\n",
            "Layer's name:  dense , trainable:  True\n",
            "{'name': 'dense', 'trainable': True, 'dtype': 'float32', 'batch_input_shape': (None, 3072), 'units': 128, 'activation': 'tanh', 'use_bias': True, 'kernel_initializer': {'class_name': 'GlorotUniform', 'config': {'seed': None}}, 'bias_initializer': {'class_name': 'Zeros', 'config': {}}, 'kernel_regularizer': None, 'bias_regularizer': None, 'activity_regularizer': None, 'kernel_constraint': None, 'bias_constraint': None} \n",
            "\n",
            "Layer's name:  dense_1 , trainable:  True\n",
            "{'name': 'dense_1', 'trainable': True, 'dtype': 'float32', 'units': 128, 'activation': 'tanh', 'use_bias': True, 'kernel_initializer': {'class_name': 'GlorotUniform', 'config': {'seed': None}}, 'bias_initializer': {'class_name': 'Zeros', 'config': {}}, 'kernel_regularizer': None, 'bias_regularizer': None, 'activity_regularizer': None, 'kernel_constraint': None, 'bias_constraint': None} \n",
            "\n",
            "Layer's name:  dense_2 , trainable:  True\n",
            "{'name': 'dense_2', 'trainable': True, 'dtype': 'float32', 'units': 10, 'activation': 'softmax', 'use_bias': True, 'kernel_initializer': {'class_name': 'GlorotUniform', 'config': {'seed': None}}, 'bias_initializer': {'class_name': 'Zeros', 'config': {}}, 'kernel_regularizer': None, 'bias_regularizer': None, 'activity_regularizer': None, 'kernel_constraint': None, 'bias_constraint': None} \n",
            "\n"
          ]
        }
      ]
    },
    {
      "cell_type": "code",
      "metadata": {
        "id": "AtVX3M3lxprc",
        "colab": {
          "base_uri": "https://localhost:8080/"
        },
        "outputId": "6025a504-4019-49de-f181-94d1b83fc8e8"
      },
      "source": [
        "print('Output: ', model.output)"
      ],
      "execution_count": null,
      "outputs": [
        {
          "output_type": "stream",
          "name": "stdout",
          "text": [
            "Output:  KerasTensor(type_spec=TensorSpec(shape=(None, 10), dtype=tf.float32, name=None), name='dense_2/Softmax:0', description=\"created by layer 'dense_2'\")\n"
          ]
        }
      ]
    },
    {
      "cell_type": "markdown",
      "source": [
        "## 2.1. Exercise\n",
        "Introduce [early stopping](https://www.tensorflow.org/api_docs/python/tf/keras/callbacks/EarlyStopping) and [dropout](https://www.tensorflow.org/api_docs/python/tf/keras/layers/Dropout) with a rate between 0.1..0.5. Tips:\n",
        "\n",
        "* Insert the dropout layer between the two Dense layers. \n",
        "* Set the patience of early stopping to 5.\n",
        "* Set the number of epochs to a very high number.\n",
        "* Don't forget to restore best weights after early stopping. \n",
        "* And also set early stopping to monitor validation accuracy (the default value is validation loss -- which is categorical crossentropy now).\n",
        "\n",
        "Compile and train the model. Attempt to increase the validation accuracy as much as possible by making changes to the dropout rate. Inspect the effects of the modifications."
      ],
      "metadata": {
        "id": "E-hHfs9qA_iO"
      }
    },
    {
      "cell_type": "code",
      "source": [
        "es = EarlyStopping(\n",
        "    monitor='val_accuracy',\n",
        "    min_delta=0,\n",
        "    patience=5,\n",
        "    verbose=0,\n",
        "    mode='auto',\n",
        "    baseline=None,\n",
        "    restore_best_weights=True,\n",
        "    start_from_epoch=1000000000\n",
        ")"
      ],
      "metadata": {
        "id": "NwXrPzOgEBG-"
      },
      "execution_count": null,
      "outputs": []
    },
    {
      "cell_type": "code",
      "source": [
        "# model definition with dropout\n",
        "model = Sequential()\n",
        "model.add(Dense(128, activation='tanh', input_shape=(flattened_dim,)))\n",
        "model.add(Dropout(.3, input_shape=(2,)))\n",
        "model.add(Dense(128, activation='tanh'))\n",
        "model.add(Dense(nb_classes, activation='softmax'))\n",
        "\n",
        "# loss function and optimizer\n",
        "model.compile(loss='categorical_crossentropy', optimizer='adam', metrics=['accuracy'])"
      ],
      "metadata": {
        "id": "7hZEGzj8GFwP"
      },
      "execution_count": null,
      "outputs": []
    },
    {
      "cell_type": "code",
      "source": [
        "# training with early stopping\n",
        "network_history = model.fit(X_train, Y_train, \n",
        "                            validation_data=(X_valid,Y_valid),\n",
        "                            batch_size=128,                             \n",
        "                            epochs=150, \n",
        "                            verbose=1, \n",
        "                            callbacks=[es])"
      ],
      "metadata": {
        "id": "GCG54R-vGGWj",
        "colab": {
          "base_uri": "https://localhost:8080/"
        },
        "outputId": "80295f6b-b96b-4f81-c523-bb4f55f707e6"
      },
      "execution_count": null,
      "outputs": [
        {
          "output_type": "stream",
          "name": "stdout",
          "text": [
            "Epoch 1/150\n",
            "313/313 [==============================] - 3s 7ms/step - loss: 1.8901 - accuracy: 0.3304 - val_loss: 1.7689 - val_accuracy: 0.3774\n",
            "Epoch 2/150\n",
            "313/313 [==============================] - 2s 5ms/step - loss: 1.7839 - accuracy: 0.3758 - val_loss: 1.7321 - val_accuracy: 0.3977\n",
            "Epoch 3/150\n",
            "313/313 [==============================] - 2s 5ms/step - loss: 1.7351 - accuracy: 0.3930 - val_loss: 1.7124 - val_accuracy: 0.4061\n",
            "Epoch 4/150\n",
            "313/313 [==============================] - 2s 5ms/step - loss: 1.7074 - accuracy: 0.4041 - val_loss: 1.6932 - val_accuracy: 0.4191\n",
            "Epoch 5/150\n",
            "313/313 [==============================] - 2s 7ms/step - loss: 1.6749 - accuracy: 0.4165 - val_loss: 1.6746 - val_accuracy: 0.4180\n",
            "Epoch 6/150\n",
            "313/313 [==============================] - 2s 7ms/step - loss: 1.6568 - accuracy: 0.4196 - val_loss: 1.6576 - val_accuracy: 0.4242\n",
            "Epoch 7/150\n",
            "313/313 [==============================] - 2s 5ms/step - loss: 1.6407 - accuracy: 0.4309 - val_loss: 1.6498 - val_accuracy: 0.4287\n",
            "Epoch 8/150\n",
            "313/313 [==============================] - 2s 5ms/step - loss: 1.6222 - accuracy: 0.4369 - val_loss: 1.6505 - val_accuracy: 0.4266\n",
            "Epoch 9/150\n",
            "313/313 [==============================] - 2s 5ms/step - loss: 1.6103 - accuracy: 0.4402 - val_loss: 1.6339 - val_accuracy: 0.4360\n",
            "Epoch 10/150\n",
            "313/313 [==============================] - 2s 5ms/step - loss: 1.5946 - accuracy: 0.4429 - val_loss: 1.6397 - val_accuracy: 0.4291\n",
            "Epoch 11/150\n",
            "313/313 [==============================] - 2s 6ms/step - loss: 1.5810 - accuracy: 0.4488 - val_loss: 1.6175 - val_accuracy: 0.4406\n",
            "Epoch 12/150\n",
            "313/313 [==============================] - 2s 7ms/step - loss: 1.5648 - accuracy: 0.4540 - val_loss: 1.6113 - val_accuracy: 0.4477\n",
            "Epoch 13/150\n",
            "313/313 [==============================] - 2s 6ms/step - loss: 1.5532 - accuracy: 0.4587 - val_loss: 1.6039 - val_accuracy: 0.4477\n",
            "Epoch 14/150\n",
            "313/313 [==============================] - 2s 5ms/step - loss: 1.5407 - accuracy: 0.4633 - val_loss: 1.5920 - val_accuracy: 0.4485\n",
            "Epoch 15/150\n",
            "313/313 [==============================] - 2s 5ms/step - loss: 1.5258 - accuracy: 0.4700 - val_loss: 1.5888 - val_accuracy: 0.4483\n",
            "Epoch 16/150\n",
            "313/313 [==============================] - 2s 6ms/step - loss: 1.5294 - accuracy: 0.4652 - val_loss: 1.5830 - val_accuracy: 0.4475\n",
            "Epoch 17/150\n",
            "313/313 [==============================] - 2s 5ms/step - loss: 1.5110 - accuracy: 0.4717 - val_loss: 1.5653 - val_accuracy: 0.4567\n",
            "Epoch 18/150\n",
            "313/313 [==============================] - 2s 5ms/step - loss: 1.4989 - accuracy: 0.4753 - val_loss: 1.5589 - val_accuracy: 0.4581\n",
            "Epoch 19/150\n",
            "313/313 [==============================] - 2s 8ms/step - loss: 1.4883 - accuracy: 0.4824 - val_loss: 1.5629 - val_accuracy: 0.4628\n",
            "Epoch 20/150\n",
            "313/313 [==============================] - 2s 5ms/step - loss: 1.4816 - accuracy: 0.4811 - val_loss: 1.5493 - val_accuracy: 0.4603\n",
            "Epoch 21/150\n",
            "313/313 [==============================] - 2s 5ms/step - loss: 1.4711 - accuracy: 0.4840 - val_loss: 1.5482 - val_accuracy: 0.4610\n",
            "Epoch 22/150\n",
            "313/313 [==============================] - 2s 5ms/step - loss: 1.4661 - accuracy: 0.4849 - val_loss: 1.5414 - val_accuracy: 0.4604\n",
            "Epoch 23/150\n",
            "313/313 [==============================] - 2s 5ms/step - loss: 1.4561 - accuracy: 0.4870 - val_loss: 1.5329 - val_accuracy: 0.4637\n",
            "Epoch 24/150\n",
            "313/313 [==============================] - 2s 5ms/step - loss: 1.4506 - accuracy: 0.4888 - val_loss: 1.5331 - val_accuracy: 0.4651\n",
            "Epoch 25/150\n",
            "313/313 [==============================] - 2s 5ms/step - loss: 1.4447 - accuracy: 0.4909 - val_loss: 1.5339 - val_accuracy: 0.4619\n",
            "Epoch 26/150\n",
            "313/313 [==============================] - 2s 7ms/step - loss: 1.4329 - accuracy: 0.4956 - val_loss: 1.5292 - val_accuracy: 0.4677\n",
            "Epoch 27/150\n",
            "313/313 [==============================] - 2s 6ms/step - loss: 1.4259 - accuracy: 0.4979 - val_loss: 1.5238 - val_accuracy: 0.4650\n",
            "Epoch 28/150\n",
            "313/313 [==============================] - 2s 5ms/step - loss: 1.4155 - accuracy: 0.5042 - val_loss: 1.5198 - val_accuracy: 0.4683\n",
            "Epoch 29/150\n",
            "313/313 [==============================] - 2s 6ms/step - loss: 1.4149 - accuracy: 0.5001 - val_loss: 1.5283 - val_accuracy: 0.4643\n",
            "Epoch 30/150\n",
            "313/313 [==============================] - 2s 6ms/step - loss: 1.4081 - accuracy: 0.5031 - val_loss: 1.5137 - val_accuracy: 0.4725\n",
            "Epoch 31/150\n",
            "313/313 [==============================] - 2s 5ms/step - loss: 1.4051 - accuracy: 0.5050 - val_loss: 1.5091 - val_accuracy: 0.4767\n",
            "Epoch 32/150\n",
            "313/313 [==============================] - 2s 5ms/step - loss: 1.4019 - accuracy: 0.5059 - val_loss: 1.5110 - val_accuracy: 0.4754\n",
            "Epoch 33/150\n",
            "313/313 [==============================] - 3s 8ms/step - loss: 1.3998 - accuracy: 0.5062 - val_loss: 1.5126 - val_accuracy: 0.4761\n",
            "Epoch 34/150\n",
            "313/313 [==============================] - 2s 5ms/step - loss: 1.3919 - accuracy: 0.5091 - val_loss: 1.4955 - val_accuracy: 0.4789\n",
            "Epoch 35/150\n",
            "313/313 [==============================] - 2s 5ms/step - loss: 1.3810 - accuracy: 0.5122 - val_loss: 1.5148 - val_accuracy: 0.4715\n",
            "Epoch 36/150\n",
            "313/313 [==============================] - 2s 5ms/step - loss: 1.3816 - accuracy: 0.5133 - val_loss: 1.5026 - val_accuracy: 0.4770\n",
            "Epoch 37/150\n",
            "313/313 [==============================] - 2s 5ms/step - loss: 1.3801 - accuracy: 0.5137 - val_loss: 1.4989 - val_accuracy: 0.4794\n",
            "Epoch 38/150\n",
            "313/313 [==============================] - 2s 6ms/step - loss: 1.3706 - accuracy: 0.5175 - val_loss: 1.4914 - val_accuracy: 0.4735\n",
            "Epoch 39/150\n",
            "313/313 [==============================] - 3s 9ms/step - loss: 1.3621 - accuracy: 0.5191 - val_loss: 1.4915 - val_accuracy: 0.4810\n",
            "Epoch 40/150\n",
            "313/313 [==============================] - 2s 7ms/step - loss: 1.3592 - accuracy: 0.5189 - val_loss: 1.5011 - val_accuracy: 0.4766\n",
            "Epoch 41/150\n",
            "313/313 [==============================] - 2s 5ms/step - loss: 1.3505 - accuracy: 0.5255 - val_loss: 1.4913 - val_accuracy: 0.4849\n",
            "Epoch 42/150\n",
            "313/313 [==============================] - 2s 5ms/step - loss: 1.3438 - accuracy: 0.5267 - val_loss: 1.4946 - val_accuracy: 0.4813\n",
            "Epoch 43/150\n",
            "313/313 [==============================] - 2s 5ms/step - loss: 1.3397 - accuracy: 0.5280 - val_loss: 1.4891 - val_accuracy: 0.4833\n",
            "Epoch 44/150\n",
            "313/313 [==============================] - 2s 5ms/step - loss: 1.3403 - accuracy: 0.5278 - val_loss: 1.4870 - val_accuracy: 0.4819\n",
            "Epoch 45/150\n",
            "313/313 [==============================] - 2s 5ms/step - loss: 1.3364 - accuracy: 0.5275 - val_loss: 1.4897 - val_accuracy: 0.4808\n",
            "Epoch 46/150\n",
            "313/313 [==============================] - 2s 7ms/step - loss: 1.3304 - accuracy: 0.5288 - val_loss: 1.4905 - val_accuracy: 0.4830\n",
            "Epoch 47/150\n",
            "313/313 [==============================] - 2s 6ms/step - loss: 1.3266 - accuracy: 0.5329 - val_loss: 1.4848 - val_accuracy: 0.4831\n",
            "Epoch 48/150\n",
            "313/313 [==============================] - 2s 5ms/step - loss: 1.3291 - accuracy: 0.5317 - val_loss: 1.4955 - val_accuracy: 0.4829\n",
            "Epoch 49/150\n",
            "313/313 [==============================] - 2s 5ms/step - loss: 1.3226 - accuracy: 0.5312 - val_loss: 1.4960 - val_accuracy: 0.4816\n",
            "Epoch 50/150\n",
            "313/313 [==============================] - 2s 5ms/step - loss: 1.3257 - accuracy: 0.5336 - val_loss: 1.4845 - val_accuracy: 0.4823\n",
            "Epoch 51/150\n",
            "313/313 [==============================] - 2s 5ms/step - loss: 1.3171 - accuracy: 0.5348 - val_loss: 1.4809 - val_accuracy: 0.4898\n",
            "Epoch 52/150\n",
            "313/313 [==============================] - 2s 5ms/step - loss: 1.3146 - accuracy: 0.5329 - val_loss: 1.5029 - val_accuracy: 0.4818\n",
            "Epoch 53/150\n",
            "313/313 [==============================] - 2s 7ms/step - loss: 1.3079 - accuracy: 0.5382 - val_loss: 1.4958 - val_accuracy: 0.4845\n",
            "Epoch 54/150\n",
            "313/313 [==============================] - 2s 6ms/step - loss: 1.3092 - accuracy: 0.5376 - val_loss: 1.4907 - val_accuracy: 0.4775\n",
            "Epoch 55/150\n",
            "313/313 [==============================] - 2s 6ms/step - loss: 1.3086 - accuracy: 0.5383 - val_loss: 1.4969 - val_accuracy: 0.4795\n",
            "Epoch 56/150\n",
            "313/313 [==============================] - 2s 6ms/step - loss: 1.3074 - accuracy: 0.5379 - val_loss: 1.4819 - val_accuracy: 0.4833\n",
            "Epoch 57/150\n",
            "313/313 [==============================] - 2s 6ms/step - loss: 1.3065 - accuracy: 0.5370 - val_loss: 1.4841 - val_accuracy: 0.4816\n",
            "Epoch 58/150\n",
            "313/313 [==============================] - 2s 6ms/step - loss: 1.2978 - accuracy: 0.5427 - val_loss: 1.4744 - val_accuracy: 0.4904\n",
            "Epoch 59/150\n",
            "313/313 [==============================] - 2s 5ms/step - loss: 1.2942 - accuracy: 0.5426 - val_loss: 1.4948 - val_accuracy: 0.4831\n",
            "Epoch 60/150\n",
            "313/313 [==============================] - 2s 7ms/step - loss: 1.2885 - accuracy: 0.5444 - val_loss: 1.4871 - val_accuracy: 0.4813\n",
            "Epoch 61/150\n",
            "313/313 [==============================] - 2s 5ms/step - loss: 1.2826 - accuracy: 0.5439 - val_loss: 1.4798 - val_accuracy: 0.4854\n",
            "Epoch 62/150\n",
            "313/313 [==============================] - 2s 5ms/step - loss: 1.2798 - accuracy: 0.5454 - val_loss: 1.4904 - val_accuracy: 0.4844\n",
            "Epoch 63/150\n",
            "313/313 [==============================] - 2s 5ms/step - loss: 1.2840 - accuracy: 0.5449 - val_loss: 1.4874 - val_accuracy: 0.4873\n",
            "Epoch 64/150\n",
            "313/313 [==============================] - 2s 5ms/step - loss: 1.2740 - accuracy: 0.5497 - val_loss: 1.4869 - val_accuracy: 0.4875\n",
            "Epoch 65/150\n",
            "313/313 [==============================] - 2s 5ms/step - loss: 1.2771 - accuracy: 0.5476 - val_loss: 1.4956 - val_accuracy: 0.4849\n",
            "Epoch 66/150\n",
            "313/313 [==============================] - 2s 5ms/step - loss: 1.2771 - accuracy: 0.5487 - val_loss: 1.4905 - val_accuracy: 0.4893\n",
            "Epoch 67/150\n",
            "313/313 [==============================] - 2s 8ms/step - loss: 1.2751 - accuracy: 0.5505 - val_loss: 1.4884 - val_accuracy: 0.4893\n",
            "Epoch 68/150\n",
            "313/313 [==============================] - 2s 6ms/step - loss: 1.2719 - accuracy: 0.5509 - val_loss: 1.4834 - val_accuracy: 0.4869\n",
            "Epoch 69/150\n",
            "313/313 [==============================] - 2s 5ms/step - loss: 1.2773 - accuracy: 0.5504 - val_loss: 1.4886 - val_accuracy: 0.4848\n",
            "Epoch 70/150\n",
            "313/313 [==============================] - 2s 5ms/step - loss: 1.2805 - accuracy: 0.5484 - val_loss: 1.4743 - val_accuracy: 0.4890\n",
            "Epoch 71/150\n",
            "313/313 [==============================] - 2s 5ms/step - loss: 1.2642 - accuracy: 0.5522 - val_loss: 1.4832 - val_accuracy: 0.4903\n",
            "Epoch 72/150\n",
            "313/313 [==============================] - 2s 5ms/step - loss: 1.2621 - accuracy: 0.5512 - val_loss: 1.4870 - val_accuracy: 0.4939\n",
            "Epoch 73/150\n",
            "313/313 [==============================] - 2s 6ms/step - loss: 1.2586 - accuracy: 0.5544 - val_loss: 1.4784 - val_accuracy: 0.4905\n",
            "Epoch 74/150\n",
            "313/313 [==============================] - 2s 7ms/step - loss: 1.2586 - accuracy: 0.5549 - val_loss: 1.4832 - val_accuracy: 0.4887\n",
            "Epoch 75/150\n",
            "313/313 [==============================] - 2s 5ms/step - loss: 1.2610 - accuracy: 0.5533 - val_loss: 1.4721 - val_accuracy: 0.4959\n",
            "Epoch 76/150\n",
            "313/313 [==============================] - 2s 5ms/step - loss: 1.2526 - accuracy: 0.5569 - val_loss: 1.4891 - val_accuracy: 0.4919\n",
            "Epoch 77/150\n",
            "313/313 [==============================] - 2s 5ms/step - loss: 1.2521 - accuracy: 0.5571 - val_loss: 1.4928 - val_accuracy: 0.4960\n",
            "Epoch 78/150\n",
            "313/313 [==============================] - 2s 5ms/step - loss: 1.2401 - accuracy: 0.5600 - val_loss: 1.4828 - val_accuracy: 0.4924\n",
            "Epoch 79/150\n",
            "313/313 [==============================] - 2s 5ms/step - loss: 1.2461 - accuracy: 0.5613 - val_loss: 1.4777 - val_accuracy: 0.4893\n",
            "Epoch 80/150\n",
            "313/313 [==============================] - 2s 6ms/step - loss: 1.2349 - accuracy: 0.5634 - val_loss: 1.4934 - val_accuracy: 0.4915\n",
            "Epoch 81/150\n",
            "313/313 [==============================] - 3s 9ms/step - loss: 1.2404 - accuracy: 0.5614 - val_loss: 1.4883 - val_accuracy: 0.4933\n",
            "Epoch 82/150\n",
            "313/313 [==============================] - 2s 7ms/step - loss: 1.2437 - accuracy: 0.5609 - val_loss: 1.4844 - val_accuracy: 0.4894\n",
            "Epoch 83/150\n",
            "313/313 [==============================] - 2s 5ms/step - loss: 1.2472 - accuracy: 0.5595 - val_loss: 1.4813 - val_accuracy: 0.4891\n",
            "Epoch 84/150\n",
            "313/313 [==============================] - 2s 5ms/step - loss: 1.2353 - accuracy: 0.5662 - val_loss: 1.4990 - val_accuracy: 0.4888\n",
            "Epoch 85/150\n",
            "313/313 [==============================] - 2s 5ms/step - loss: 1.2407 - accuracy: 0.5596 - val_loss: 1.4835 - val_accuracy: 0.4976\n",
            "Epoch 86/150\n",
            "313/313 [==============================] - 2s 5ms/step - loss: 1.2316 - accuracy: 0.5659 - val_loss: 1.4951 - val_accuracy: 0.4877\n",
            "Epoch 87/150\n",
            "313/313 [==============================] - 2s 5ms/step - loss: 1.2265 - accuracy: 0.5648 - val_loss: 1.4834 - val_accuracy: 0.4935\n",
            "Epoch 88/150\n",
            "313/313 [==============================] - 2s 6ms/step - loss: 1.2299 - accuracy: 0.5648 - val_loss: 1.4885 - val_accuracy: 0.4957\n",
            "Epoch 89/150\n",
            "313/313 [==============================] - 2s 6ms/step - loss: 1.2251 - accuracy: 0.5670 - val_loss: 1.4974 - val_accuracy: 0.4879\n",
            "Epoch 90/150\n",
            "313/313 [==============================] - 2s 6ms/step - loss: 1.2165 - accuracy: 0.5678 - val_loss: 1.4951 - val_accuracy: 0.4891\n",
            "Epoch 91/150\n",
            "313/313 [==============================] - 2s 5ms/step - loss: 1.2224 - accuracy: 0.5665 - val_loss: 1.4872 - val_accuracy: 0.4898\n",
            "Epoch 92/150\n",
            "313/313 [==============================] - 2s 5ms/step - loss: 1.2195 - accuracy: 0.5702 - val_loss: 1.4916 - val_accuracy: 0.4942\n",
            "Epoch 93/150\n",
            "313/313 [==============================] - 2s 5ms/step - loss: 1.2222 - accuracy: 0.5689 - val_loss: 1.4919 - val_accuracy: 0.4904\n",
            "Epoch 94/150\n",
            "313/313 [==============================] - 2s 5ms/step - loss: 1.2157 - accuracy: 0.5707 - val_loss: 1.4840 - val_accuracy: 0.4910\n",
            "Epoch 95/150\n",
            "313/313 [==============================] - 2s 7ms/step - loss: 1.2142 - accuracy: 0.5699 - val_loss: 1.4982 - val_accuracy: 0.4908\n",
            "Epoch 96/150\n",
            "313/313 [==============================] - 2s 6ms/step - loss: 1.2146 - accuracy: 0.5711 - val_loss: 1.4888 - val_accuracy: 0.4923\n",
            "Epoch 97/150\n",
            "313/313 [==============================] - 2s 5ms/step - loss: 1.2097 - accuracy: 0.5728 - val_loss: 1.4851 - val_accuracy: 0.4917\n",
            "Epoch 98/150\n",
            "313/313 [==============================] - 2s 5ms/step - loss: 1.2033 - accuracy: 0.5734 - val_loss: 1.4943 - val_accuracy: 0.4891\n",
            "Epoch 99/150\n",
            "313/313 [==============================] - 2s 6ms/step - loss: 1.2134 - accuracy: 0.5730 - val_loss: 1.4902 - val_accuracy: 0.4905\n",
            "Epoch 100/150\n",
            "313/313 [==============================] - 2s 5ms/step - loss: 1.1994 - accuracy: 0.5719 - val_loss: 1.4993 - val_accuracy: 0.4939\n",
            "Epoch 101/150\n",
            "313/313 [==============================] - 2s 5ms/step - loss: 1.2025 - accuracy: 0.5757 - val_loss: 1.4951 - val_accuracy: 0.4905\n",
            "Epoch 102/150\n",
            "313/313 [==============================] - 2s 7ms/step - loss: 1.2014 - accuracy: 0.5743 - val_loss: 1.4963 - val_accuracy: 0.4883\n",
            "Epoch 103/150\n",
            "313/313 [==============================] - 2s 6ms/step - loss: 1.1974 - accuracy: 0.5770 - val_loss: 1.4881 - val_accuracy: 0.4932\n",
            "Epoch 104/150\n",
            "313/313 [==============================] - 2s 5ms/step - loss: 1.1946 - accuracy: 0.5767 - val_loss: 1.4969 - val_accuracy: 0.4928\n",
            "Epoch 105/150\n",
            "313/313 [==============================] - 2s 5ms/step - loss: 1.1911 - accuracy: 0.5756 - val_loss: 1.4980 - val_accuracy: 0.4896\n",
            "Epoch 106/150\n",
            "313/313 [==============================] - 2s 5ms/step - loss: 1.1893 - accuracy: 0.5785 - val_loss: 1.5000 - val_accuracy: 0.4906\n",
            "Epoch 107/150\n",
            "313/313 [==============================] - 2s 5ms/step - loss: 1.1933 - accuracy: 0.5757 - val_loss: 1.4967 - val_accuracy: 0.4976\n",
            "Epoch 108/150\n",
            "313/313 [==============================] - 2s 5ms/step - loss: 1.1919 - accuracy: 0.5783 - val_loss: 1.4989 - val_accuracy: 0.4930\n",
            "Epoch 109/150\n",
            "313/313 [==============================] - 2s 7ms/step - loss: 1.1960 - accuracy: 0.5767 - val_loss: 1.4955 - val_accuracy: 0.4936\n",
            "Epoch 110/150\n",
            "313/313 [==============================] - 2s 6ms/step - loss: 1.1862 - accuracy: 0.5771 - val_loss: 1.4928 - val_accuracy: 0.4978\n",
            "Epoch 111/150\n",
            "313/313 [==============================] - 2s 5ms/step - loss: 1.1887 - accuracy: 0.5807 - val_loss: 1.5013 - val_accuracy: 0.4942\n",
            "Epoch 112/150\n",
            "313/313 [==============================] - 2s 6ms/step - loss: 1.1860 - accuracy: 0.5810 - val_loss: 1.5014 - val_accuracy: 0.4934\n",
            "Epoch 113/150\n",
            "313/313 [==============================] - 2s 5ms/step - loss: 1.1825 - accuracy: 0.5779 - val_loss: 1.4982 - val_accuracy: 0.4925\n",
            "Epoch 114/150\n",
            "313/313 [==============================] - 2s 6ms/step - loss: 1.1756 - accuracy: 0.5796 - val_loss: 1.4963 - val_accuracy: 0.4939\n",
            "Epoch 115/150\n",
            "313/313 [==============================] - 2s 5ms/step - loss: 1.1807 - accuracy: 0.5821 - val_loss: 1.4914 - val_accuracy: 0.4962\n",
            "Epoch 116/150\n",
            "313/313 [==============================] - 2s 7ms/step - loss: 1.1689 - accuracy: 0.5838 - val_loss: 1.5077 - val_accuracy: 0.4944\n",
            "Epoch 117/150\n",
            "313/313 [==============================] - 2s 6ms/step - loss: 1.1747 - accuracy: 0.5855 - val_loss: 1.4922 - val_accuracy: 0.5004\n",
            "Epoch 118/150\n",
            "313/313 [==============================] - 2s 5ms/step - loss: 1.1736 - accuracy: 0.5833 - val_loss: 1.4946 - val_accuracy: 0.4926\n",
            "Epoch 119/150\n",
            "313/313 [==============================] - 2s 5ms/step - loss: 1.1744 - accuracy: 0.5843 - val_loss: 1.4997 - val_accuracy: 0.4924\n",
            "Epoch 120/150\n",
            "313/313 [==============================] - 2s 5ms/step - loss: 1.1672 - accuracy: 0.5870 - val_loss: 1.4978 - val_accuracy: 0.4936\n",
            "Epoch 121/150\n",
            "313/313 [==============================] - 2s 6ms/step - loss: 1.1693 - accuracy: 0.5854 - val_loss: 1.5022 - val_accuracy: 0.4948\n",
            "Epoch 122/150\n",
            "313/313 [==============================] - 2s 6ms/step - loss: 1.1642 - accuracy: 0.5866 - val_loss: 1.4970 - val_accuracy: 0.4934\n",
            "Epoch 123/150\n",
            "313/313 [==============================] - 3s 8ms/step - loss: 1.1664 - accuracy: 0.5868 - val_loss: 1.5079 - val_accuracy: 0.4906\n",
            "Epoch 124/150\n",
            "313/313 [==============================] - 2s 5ms/step - loss: 1.1517 - accuracy: 0.5898 - val_loss: 1.5044 - val_accuracy: 0.4924\n",
            "Epoch 125/150\n",
            "313/313 [==============================] - 2s 5ms/step - loss: 1.1616 - accuracy: 0.5886 - val_loss: 1.5017 - val_accuracy: 0.4903\n",
            "Epoch 126/150\n",
            "313/313 [==============================] - 2s 5ms/step - loss: 1.1565 - accuracy: 0.5921 - val_loss: 1.4988 - val_accuracy: 0.4890\n",
            "Epoch 127/150\n",
            "313/313 [==============================] - 2s 5ms/step - loss: 1.1561 - accuracy: 0.5919 - val_loss: 1.5004 - val_accuracy: 0.4884\n",
            "Epoch 128/150\n",
            "313/313 [==============================] - 2s 5ms/step - loss: 1.1569 - accuracy: 0.5897 - val_loss: 1.4978 - val_accuracy: 0.4935\n",
            "Epoch 129/150\n",
            "313/313 [==============================] - 2s 6ms/step - loss: 1.1501 - accuracy: 0.5913 - val_loss: 1.5014 - val_accuracy: 0.4987\n",
            "Epoch 130/150\n",
            "313/313 [==============================] - 2s 7ms/step - loss: 1.1602 - accuracy: 0.5882 - val_loss: 1.5050 - val_accuracy: 0.4916\n",
            "Epoch 131/150\n",
            "313/313 [==============================] - 2s 6ms/step - loss: 1.1572 - accuracy: 0.5900 - val_loss: 1.5109 - val_accuracy: 0.4915\n",
            "Epoch 132/150\n",
            "313/313 [==============================] - 2s 5ms/step - loss: 1.1456 - accuracy: 0.5924 - val_loss: 1.5007 - val_accuracy: 0.4975\n",
            "Epoch 133/150\n",
            "313/313 [==============================] - 2s 5ms/step - loss: 1.1535 - accuracy: 0.5938 - val_loss: 1.5048 - val_accuracy: 0.4944\n",
            "Epoch 134/150\n",
            "313/313 [==============================] - 2s 5ms/step - loss: 1.1577 - accuracy: 0.5911 - val_loss: 1.5062 - val_accuracy: 0.4942\n",
            "Epoch 135/150\n",
            "313/313 [==============================] - 2s 6ms/step - loss: 1.1411 - accuracy: 0.5968 - val_loss: 1.5010 - val_accuracy: 0.4949\n",
            "Epoch 136/150\n",
            "313/313 [==============================] - 2s 7ms/step - loss: 1.1356 - accuracy: 0.5973 - val_loss: 1.5141 - val_accuracy: 0.4885\n",
            "Epoch 137/150\n",
            "313/313 [==============================] - 2s 7ms/step - loss: 1.1350 - accuracy: 0.5993 - val_loss: 1.5148 - val_accuracy: 0.4919\n",
            "Epoch 138/150\n",
            "313/313 [==============================] - 2s 5ms/step - loss: 1.1368 - accuracy: 0.5990 - val_loss: 1.5186 - val_accuracy: 0.4878\n",
            "Epoch 139/150\n",
            "313/313 [==============================] - 2s 6ms/step - loss: 1.1355 - accuracy: 0.5961 - val_loss: 1.5105 - val_accuracy: 0.4912\n",
            "Epoch 140/150\n",
            "313/313 [==============================] - 2s 5ms/step - loss: 1.1397 - accuracy: 0.5992 - val_loss: 1.5135 - val_accuracy: 0.4931\n",
            "Epoch 141/150\n",
            "313/313 [==============================] - 2s 5ms/step - loss: 1.1315 - accuracy: 0.5973 - val_loss: 1.5086 - val_accuracy: 0.4919\n",
            "Epoch 142/150\n",
            "313/313 [==============================] - 2s 5ms/step - loss: 1.1342 - accuracy: 0.5983 - val_loss: 1.5055 - val_accuracy: 0.4939\n",
            "Epoch 143/150\n",
            "313/313 [==============================] - 2s 7ms/step - loss: 1.1357 - accuracy: 0.5992 - val_loss: 1.5139 - val_accuracy: 0.4894\n",
            "Epoch 144/150\n",
            "313/313 [==============================] - 2s 7ms/step - loss: 1.1316 - accuracy: 0.6000 - val_loss: 1.5169 - val_accuracy: 0.4946\n",
            "Epoch 145/150\n",
            "313/313 [==============================] - 2s 5ms/step - loss: 1.1392 - accuracy: 0.5975 - val_loss: 1.5055 - val_accuracy: 0.4956\n",
            "Epoch 146/150\n",
            "313/313 [==============================] - 2s 6ms/step - loss: 1.1388 - accuracy: 0.5950 - val_loss: 1.5148 - val_accuracy: 0.4967\n",
            "Epoch 147/150\n",
            "313/313 [==============================] - 2s 6ms/step - loss: 1.1354 - accuracy: 0.5973 - val_loss: 1.5167 - val_accuracy: 0.4892\n",
            "Epoch 148/150\n",
            "313/313 [==============================] - 2s 6ms/step - loss: 1.1311 - accuracy: 0.6014 - val_loss: 1.5071 - val_accuracy: 0.4982\n",
            "Epoch 149/150\n",
            "313/313 [==============================] - 2s 6ms/step - loss: 1.1251 - accuracy: 0.6045 - val_loss: 1.5198 - val_accuracy: 0.4921\n",
            "Epoch 150/150\n",
            "313/313 [==============================] - 2s 8ms/step - loss: 1.1269 - accuracy: 0.5997 - val_loss: 1.5142 - val_accuracy: 0.4919\n"
          ]
        }
      ]
    },
    {
      "cell_type": "markdown",
      "source": [
        "## 2.2 Exercise\n",
        "Change the [activation function of the dense layers (except the last one)](https://www.tensorflow.org/api_docs/python/tf/keras/layers/Dense) to rectified linear unit (ReLU) and the [weight initialization](https://www.tensorflow.org/api_docs/python/tf/keras/initializers) to the theoretically best one. Use the original model's code.\n",
        "\n",
        "Compile and train the model. Inspect the effects of the modifications."
      ],
      "metadata": {
        "id": "zQCDM1o1BBtF"
      }
    },
    {
      "cell_type": "code",
      "source": [
        "# model definition with relu\n",
        "model = Sequential()\n",
        "model.add(Dense(128, activation='relu', kernel_initializer=HeNormal, input_shape=(flattened_dim,)))\n",
        "model.add(Dense(128, activation='relu', kernel_initializer=HeNormal))\n",
        "model.add(Dense(nb_classes, activation='softmax'))\n",
        "\n",
        "# loss function and optimizer\n",
        "model.compile(loss='categorical_crossentropy', optimizer='adam', metrics=['accuracy'])"
      ],
      "metadata": {
        "id": "YjHAAh-wGu9O"
      },
      "execution_count": null,
      "outputs": []
    },
    {
      "cell_type": "code",
      "source": [
        "# training\n",
        "network_history = model.fit(X_train, Y_train, \n",
        "                            validation_data=(X_valid,Y_valid),\n",
        "                            batch_size=128,                             \n",
        "                            epochs=150, \n",
        "                            verbose=1)"
      ],
      "metadata": {
        "id": "rarwKM1wGxMz",
        "colab": {
          "base_uri": "https://localhost:8080/"
        },
        "outputId": "80576548-e52a-4ebe-c9f3-c3204097d64c"
      },
      "execution_count": null,
      "outputs": [
        {
          "output_type": "stream",
          "name": "stdout",
          "text": [
            "Epoch 1/150\n",
            "313/313 [==============================] - 3s 6ms/step - loss: 1.8334 - accuracy: 0.3745 - val_loss: 1.6884 - val_accuracy: 0.4173\n",
            "Epoch 2/150\n",
            "313/313 [==============================] - 2s 5ms/step - loss: 1.5426 - accuracy: 0.4614 - val_loss: 1.5554 - val_accuracy: 0.4605\n",
            "Epoch 3/150\n",
            "313/313 [==============================] - 2s 7ms/step - loss: 1.4265 - accuracy: 0.4997 - val_loss: 1.5333 - val_accuracy: 0.4679\n",
            "Epoch 4/150\n",
            "313/313 [==============================] - 2s 5ms/step - loss: 1.3393 - accuracy: 0.5306 - val_loss: 1.5190 - val_accuracy: 0.4751\n",
            "Epoch 5/150\n",
            "313/313 [==============================] - 2s 5ms/step - loss: 1.2640 - accuracy: 0.5574 - val_loss: 1.5175 - val_accuracy: 0.4774\n",
            "Epoch 6/150\n",
            "313/313 [==============================] - 2s 5ms/step - loss: 1.2044 - accuracy: 0.5772 - val_loss: 1.5046 - val_accuracy: 0.4869\n",
            "Epoch 7/150\n",
            "313/313 [==============================] - 2s 5ms/step - loss: 1.1513 - accuracy: 0.5968 - val_loss: 1.5416 - val_accuracy: 0.4851\n",
            "Epoch 8/150\n",
            "313/313 [==============================] - 2s 5ms/step - loss: 1.1022 - accuracy: 0.6140 - val_loss: 1.5298 - val_accuracy: 0.5003\n",
            "Epoch 9/150\n",
            "313/313 [==============================] - 2s 5ms/step - loss: 1.0588 - accuracy: 0.6321 - val_loss: 1.5558 - val_accuracy: 0.4941\n",
            "Epoch 10/150\n",
            "313/313 [==============================] - 2s 7ms/step - loss: 1.0117 - accuracy: 0.6438 - val_loss: 1.5996 - val_accuracy: 0.4825\n",
            "Epoch 11/150\n",
            "313/313 [==============================] - 2s 5ms/step - loss: 0.9746 - accuracy: 0.6592 - val_loss: 1.5979 - val_accuracy: 0.4922\n",
            "Epoch 12/150\n",
            "313/313 [==============================] - 2s 5ms/step - loss: 0.9345 - accuracy: 0.6708 - val_loss: 1.6363 - val_accuracy: 0.4893\n",
            "Epoch 13/150\n",
            "313/313 [==============================] - 2s 5ms/step - loss: 0.8865 - accuracy: 0.6881 - val_loss: 1.6683 - val_accuracy: 0.4906\n",
            "Epoch 14/150\n",
            "313/313 [==============================] - 2s 5ms/step - loss: 0.8519 - accuracy: 0.7008 - val_loss: 1.7052 - val_accuracy: 0.4884\n",
            "Epoch 15/150\n",
            "313/313 [==============================] - 2s 5ms/step - loss: 0.8238 - accuracy: 0.7111 - val_loss: 1.7560 - val_accuracy: 0.4899\n",
            "Epoch 16/150\n",
            "313/313 [==============================] - 2s 5ms/step - loss: 0.7830 - accuracy: 0.7210 - val_loss: 1.8200 - val_accuracy: 0.4806\n",
            "Epoch 17/150\n",
            "313/313 [==============================] - 2s 7ms/step - loss: 0.7573 - accuracy: 0.7339 - val_loss: 1.8174 - val_accuracy: 0.4937\n",
            "Epoch 18/150\n",
            "313/313 [==============================] - 2s 8ms/step - loss: 0.7136 - accuracy: 0.7506 - val_loss: 1.8668 - val_accuracy: 0.4840\n",
            "Epoch 19/150\n",
            "313/313 [==============================] - 2s 6ms/step - loss: 0.6902 - accuracy: 0.7584 - val_loss: 1.9749 - val_accuracy: 0.4847\n",
            "Epoch 20/150\n",
            "313/313 [==============================] - 2s 5ms/step - loss: 0.6692 - accuracy: 0.7637 - val_loss: 1.9846 - val_accuracy: 0.4830\n",
            "Epoch 21/150\n",
            "313/313 [==============================] - 2s 6ms/step - loss: 0.6280 - accuracy: 0.7787 - val_loss: 2.0581 - val_accuracy: 0.4815\n",
            "Epoch 22/150\n",
            "313/313 [==============================] - 2s 5ms/step - loss: 0.6145 - accuracy: 0.7839 - val_loss: 2.0905 - val_accuracy: 0.4807\n",
            "Epoch 23/150\n",
            "313/313 [==============================] - 2s 5ms/step - loss: 0.5866 - accuracy: 0.7945 - val_loss: 2.1790 - val_accuracy: 0.4881\n",
            "Epoch 24/150\n",
            "313/313 [==============================] - 2s 6ms/step - loss: 0.5594 - accuracy: 0.8032 - val_loss: 2.2165 - val_accuracy: 0.4865\n",
            "Epoch 25/150\n",
            "313/313 [==============================] - 2s 6ms/step - loss: 0.5423 - accuracy: 0.8100 - val_loss: 2.2581 - val_accuracy: 0.4863\n",
            "Epoch 26/150\n",
            "313/313 [==============================] - 2s 5ms/step - loss: 0.5164 - accuracy: 0.8176 - val_loss: 2.3193 - val_accuracy: 0.4824\n",
            "Epoch 27/150\n",
            "313/313 [==============================] - 2s 5ms/step - loss: 0.5026 - accuracy: 0.8223 - val_loss: 2.4247 - val_accuracy: 0.4730\n",
            "Epoch 28/150\n",
            "313/313 [==============================] - 2s 5ms/step - loss: 0.4841 - accuracy: 0.8301 - val_loss: 2.4659 - val_accuracy: 0.4800\n",
            "Epoch 29/150\n",
            "313/313 [==============================] - 2s 5ms/step - loss: 0.4586 - accuracy: 0.8389 - val_loss: 2.5172 - val_accuracy: 0.4762\n",
            "Epoch 30/150\n",
            "313/313 [==============================] - 2s 5ms/step - loss: 0.4555 - accuracy: 0.8410 - val_loss: 2.5879 - val_accuracy: 0.4730\n",
            "Epoch 31/150\n",
            "313/313 [==============================] - 2s 6ms/step - loss: 0.4363 - accuracy: 0.8468 - val_loss: 2.6591 - val_accuracy: 0.4712\n",
            "Epoch 32/150\n",
            "313/313 [==============================] - 2s 6ms/step - loss: 0.4187 - accuracy: 0.8531 - val_loss: 2.7639 - val_accuracy: 0.4728\n",
            "Epoch 33/150\n",
            "313/313 [==============================] - 2s 5ms/step - loss: 0.4058 - accuracy: 0.8565 - val_loss: 2.7787 - val_accuracy: 0.4728\n",
            "Epoch 34/150\n",
            "313/313 [==============================] - 2s 5ms/step - loss: 0.3870 - accuracy: 0.8649 - val_loss: 2.8382 - val_accuracy: 0.4774\n",
            "Epoch 35/150\n",
            "313/313 [==============================] - 2s 5ms/step - loss: 0.3746 - accuracy: 0.8679 - val_loss: 2.8791 - val_accuracy: 0.4760\n",
            "Epoch 36/150\n",
            "313/313 [==============================] - 2s 5ms/step - loss: 0.3663 - accuracy: 0.8701 - val_loss: 2.9311 - val_accuracy: 0.4736\n",
            "Epoch 37/150\n",
            "313/313 [==============================] - 2s 5ms/step - loss: 0.3435 - accuracy: 0.8806 - val_loss: 3.0813 - val_accuracy: 0.4732\n",
            "Epoch 38/150\n",
            "313/313 [==============================] - 2s 6ms/step - loss: 0.3425 - accuracy: 0.8810 - val_loss: 3.0811 - val_accuracy: 0.4668\n",
            "Epoch 39/150\n",
            "313/313 [==============================] - 2s 6ms/step - loss: 0.3316 - accuracy: 0.8828 - val_loss: 3.1828 - val_accuracy: 0.4658\n",
            "Epoch 40/150\n",
            "313/313 [==============================] - 2s 5ms/step - loss: 0.3333 - accuracy: 0.8830 - val_loss: 3.2093 - val_accuracy: 0.4724\n",
            "Epoch 41/150\n",
            "313/313 [==============================] - 2s 5ms/step - loss: 0.3226 - accuracy: 0.8868 - val_loss: 3.3361 - val_accuracy: 0.4677\n",
            "Epoch 42/150\n",
            "313/313 [==============================] - 2s 5ms/step - loss: 0.3140 - accuracy: 0.8889 - val_loss: 3.3390 - val_accuracy: 0.4707\n",
            "Epoch 43/150\n",
            "313/313 [==============================] - 2s 5ms/step - loss: 0.2921 - accuracy: 0.8977 - val_loss: 3.4790 - val_accuracy: 0.4637\n",
            "Epoch 44/150\n",
            "313/313 [==============================] - 2s 5ms/step - loss: 0.2906 - accuracy: 0.8976 - val_loss: 3.4784 - val_accuracy: 0.4733\n",
            "Epoch 45/150\n",
            "313/313 [==============================] - 2s 6ms/step - loss: 0.2864 - accuracy: 0.8989 - val_loss: 3.5889 - val_accuracy: 0.4731\n",
            "Epoch 46/150\n",
            "313/313 [==============================] - 3s 8ms/step - loss: 0.2816 - accuracy: 0.9020 - val_loss: 3.5561 - val_accuracy: 0.4699\n",
            "Epoch 47/150\n",
            "313/313 [==============================] - 2s 5ms/step - loss: 0.2779 - accuracy: 0.9025 - val_loss: 3.5885 - val_accuracy: 0.4702\n",
            "Epoch 48/150\n",
            "313/313 [==============================] - 2s 5ms/step - loss: 0.2639 - accuracy: 0.9083 - val_loss: 3.6997 - val_accuracy: 0.4671\n",
            "Epoch 49/150\n",
            "313/313 [==============================] - 2s 5ms/step - loss: 0.2356 - accuracy: 0.9181 - val_loss: 3.8089 - val_accuracy: 0.4653\n",
            "Epoch 50/150\n",
            "313/313 [==============================] - 2s 5ms/step - loss: 0.2475 - accuracy: 0.9134 - val_loss: 3.9017 - val_accuracy: 0.4663\n",
            "Epoch 51/150\n",
            "313/313 [==============================] - 2s 5ms/step - loss: 0.2580 - accuracy: 0.9100 - val_loss: 3.8960 - val_accuracy: 0.4665\n",
            "Epoch 52/150\n",
            "313/313 [==============================] - 2s 7ms/step - loss: 0.2401 - accuracy: 0.9160 - val_loss: 3.9043 - val_accuracy: 0.4694\n",
            "Epoch 53/150\n",
            "313/313 [==============================] - 3s 9ms/step - loss: 0.2265 - accuracy: 0.9202 - val_loss: 4.0361 - val_accuracy: 0.4664\n",
            "Epoch 54/150\n",
            "313/313 [==============================] - 2s 5ms/step - loss: 0.2526 - accuracy: 0.9131 - val_loss: 4.1278 - val_accuracy: 0.4655\n",
            "Epoch 55/150\n",
            "313/313 [==============================] - 2s 5ms/step - loss: 0.2327 - accuracy: 0.9211 - val_loss: 4.1392 - val_accuracy: 0.4661\n",
            "Epoch 56/150\n",
            "313/313 [==============================] - 2s 5ms/step - loss: 0.2182 - accuracy: 0.9237 - val_loss: 4.2133 - val_accuracy: 0.4701\n",
            "Epoch 57/150\n",
            "313/313 [==============================] - 2s 5ms/step - loss: 0.2261 - accuracy: 0.9213 - val_loss: 4.1767 - val_accuracy: 0.4729\n",
            "Epoch 58/150\n",
            "313/313 [==============================] - 2s 5ms/step - loss: 0.2076 - accuracy: 0.9270 - val_loss: 4.2614 - val_accuracy: 0.4685\n",
            "Epoch 59/150\n",
            "313/313 [==============================] - 2s 8ms/step - loss: 0.2186 - accuracy: 0.9231 - val_loss: 4.3156 - val_accuracy: 0.4685\n",
            "Epoch 60/150\n",
            "313/313 [==============================] - 2s 5ms/step - loss: 0.1950 - accuracy: 0.9328 - val_loss: 4.4426 - val_accuracy: 0.4666\n",
            "Epoch 61/150\n",
            "313/313 [==============================] - 2s 5ms/step - loss: 0.1862 - accuracy: 0.9359 - val_loss: 4.5339 - val_accuracy: 0.4660\n",
            "Epoch 62/150\n",
            "313/313 [==============================] - 2s 5ms/step - loss: 0.2100 - accuracy: 0.9279 - val_loss: 4.6817 - val_accuracy: 0.4582\n",
            "Epoch 63/150\n",
            "313/313 [==============================] - 2s 6ms/step - loss: 0.2120 - accuracy: 0.9252 - val_loss: 4.5612 - val_accuracy: 0.4679\n",
            "Epoch 64/150\n",
            "313/313 [==============================] - 2s 5ms/step - loss: 0.1955 - accuracy: 0.9330 - val_loss: 4.6627 - val_accuracy: 0.4703\n",
            "Epoch 65/150\n",
            "313/313 [==============================] - 2s 5ms/step - loss: 0.1860 - accuracy: 0.9356 - val_loss: 4.7492 - val_accuracy: 0.4682\n",
            "Epoch 66/150\n",
            "313/313 [==============================] - 2s 7ms/step - loss: 0.1786 - accuracy: 0.9386 - val_loss: 4.6684 - val_accuracy: 0.4717\n",
            "Epoch 67/150\n",
            "313/313 [==============================] - 2s 5ms/step - loss: 0.1921 - accuracy: 0.9341 - val_loss: 4.7745 - val_accuracy: 0.4656\n",
            "Epoch 68/150\n",
            "313/313 [==============================] - 2s 6ms/step - loss: 0.1797 - accuracy: 0.9399 - val_loss: 4.8624 - val_accuracy: 0.4677\n",
            "Epoch 69/150\n",
            "313/313 [==============================] - 2s 7ms/step - loss: 0.1804 - accuracy: 0.9383 - val_loss: 4.8490 - val_accuracy: 0.4567\n",
            "Epoch 70/150\n",
            "313/313 [==============================] - 2s 5ms/step - loss: 0.1903 - accuracy: 0.9344 - val_loss: 4.8500 - val_accuracy: 0.4619\n",
            "Epoch 71/150\n",
            "313/313 [==============================] - 2s 5ms/step - loss: 0.1624 - accuracy: 0.9444 - val_loss: 4.9089 - val_accuracy: 0.4695\n",
            "Epoch 72/150\n",
            "313/313 [==============================] - 2s 5ms/step - loss: 0.1772 - accuracy: 0.9395 - val_loss: 4.9790 - val_accuracy: 0.4644\n",
            "Epoch 73/150\n",
            "313/313 [==============================] - 2s 7ms/step - loss: 0.1825 - accuracy: 0.9381 - val_loss: 4.9551 - val_accuracy: 0.4738\n",
            "Epoch 74/150\n",
            "313/313 [==============================] - 2s 6ms/step - loss: 0.1775 - accuracy: 0.9394 - val_loss: 5.0657 - val_accuracy: 0.4653\n",
            "Epoch 75/150\n",
            "313/313 [==============================] - 2s 5ms/step - loss: 0.1692 - accuracy: 0.9428 - val_loss: 5.1778 - val_accuracy: 0.4631\n",
            "Epoch 76/150\n",
            "313/313 [==============================] - 2s 5ms/step - loss: 0.1522 - accuracy: 0.9479 - val_loss: 5.1524 - val_accuracy: 0.4661\n",
            "Epoch 77/150\n",
            "313/313 [==============================] - 2s 5ms/step - loss: 0.1499 - accuracy: 0.9484 - val_loss: 5.3171 - val_accuracy: 0.4676\n",
            "Epoch 78/150\n",
            "313/313 [==============================] - 2s 5ms/step - loss: 0.1651 - accuracy: 0.9428 - val_loss: 5.3508 - val_accuracy: 0.4634\n",
            "Epoch 79/150\n",
            "313/313 [==============================] - 2s 5ms/step - loss: 0.1690 - accuracy: 0.9421 - val_loss: 5.2352 - val_accuracy: 0.4701\n",
            "Epoch 80/150\n",
            "313/313 [==============================] - 3s 8ms/step - loss: 0.1672 - accuracy: 0.9447 - val_loss: 5.3067 - val_accuracy: 0.4653\n",
            "Epoch 81/150\n",
            "313/313 [==============================] - 2s 5ms/step - loss: 0.1730 - accuracy: 0.9398 - val_loss: 5.4130 - val_accuracy: 0.4588\n",
            "Epoch 82/150\n",
            "313/313 [==============================] - 2s 5ms/step - loss: 0.1531 - accuracy: 0.9476 - val_loss: 5.4245 - val_accuracy: 0.4674\n",
            "Epoch 83/150\n",
            "313/313 [==============================] - 2s 5ms/step - loss: 0.1367 - accuracy: 0.9532 - val_loss: 5.6031 - val_accuracy: 0.4612\n",
            "Epoch 84/150\n",
            "313/313 [==============================] - 2s 5ms/step - loss: 0.1656 - accuracy: 0.9441 - val_loss: 5.5977 - val_accuracy: 0.4557\n",
            "Epoch 85/150\n",
            "313/313 [==============================] - 2s 5ms/step - loss: 0.1634 - accuracy: 0.9431 - val_loss: 5.5210 - val_accuracy: 0.4668\n",
            "Epoch 86/150\n",
            "313/313 [==============================] - 2s 5ms/step - loss: 0.1353 - accuracy: 0.9546 - val_loss: 5.5483 - val_accuracy: 0.4663\n",
            "Epoch 87/150\n",
            "313/313 [==============================] - 2s 7ms/step - loss: 0.1329 - accuracy: 0.9553 - val_loss: 5.6823 - val_accuracy: 0.4574\n",
            "Epoch 88/150\n",
            "313/313 [==============================] - 2s 6ms/step - loss: 0.1632 - accuracy: 0.9456 - val_loss: 5.7336 - val_accuracy: 0.4675\n",
            "Epoch 89/150\n",
            "313/313 [==============================] - 2s 5ms/step - loss: 0.1652 - accuracy: 0.9452 - val_loss: 5.6397 - val_accuracy: 0.4639\n",
            "Epoch 90/150\n",
            "313/313 [==============================] - 2s 6ms/step - loss: 0.1341 - accuracy: 0.9542 - val_loss: 5.7585 - val_accuracy: 0.4645\n",
            "Epoch 91/150\n",
            "313/313 [==============================] - 2s 5ms/step - loss: 0.1453 - accuracy: 0.9514 - val_loss: 5.8071 - val_accuracy: 0.4600\n",
            "Epoch 92/150\n",
            "313/313 [==============================] - 2s 6ms/step - loss: 0.1489 - accuracy: 0.9504 - val_loss: 5.6857 - val_accuracy: 0.4715\n",
            "Epoch 93/150\n",
            "313/313 [==============================] - 2s 6ms/step - loss: 0.1357 - accuracy: 0.9529 - val_loss: 5.7331 - val_accuracy: 0.4671\n",
            "Epoch 94/150\n",
            "313/313 [==============================] - 2s 7ms/step - loss: 0.1374 - accuracy: 0.9532 - val_loss: 5.9773 - val_accuracy: 0.4575\n",
            "Epoch 95/150\n",
            "313/313 [==============================] - 2s 5ms/step - loss: 0.1468 - accuracy: 0.9510 - val_loss: 5.9813 - val_accuracy: 0.4691\n",
            "Epoch 96/150\n",
            "313/313 [==============================] - 2s 5ms/step - loss: 0.1069 - accuracy: 0.9632 - val_loss: 5.9616 - val_accuracy: 0.4656\n",
            "Epoch 97/150\n",
            "313/313 [==============================] - 2s 5ms/step - loss: 0.1249 - accuracy: 0.9582 - val_loss: 6.0304 - val_accuracy: 0.4536\n",
            "Epoch 98/150\n",
            "313/313 [==============================] - 2s 5ms/step - loss: 0.1704 - accuracy: 0.9434 - val_loss: 6.0908 - val_accuracy: 0.4651\n",
            "Epoch 99/150\n",
            "313/313 [==============================] - 2s 5ms/step - loss: 0.1298 - accuracy: 0.9566 - val_loss: 6.1688 - val_accuracy: 0.4519\n",
            "Epoch 100/150\n",
            "313/313 [==============================] - 2s 5ms/step - loss: 0.1352 - accuracy: 0.9533 - val_loss: 6.0694 - val_accuracy: 0.4627\n",
            "Epoch 101/150\n",
            "313/313 [==============================] - 2s 7ms/step - loss: 0.1026 - accuracy: 0.9648 - val_loss: 6.1929 - val_accuracy: 0.4618\n",
            "Epoch 102/150\n",
            "313/313 [==============================] - 2s 6ms/step - loss: 0.1316 - accuracy: 0.9561 - val_loss: 6.2935 - val_accuracy: 0.4658\n",
            "Epoch 103/150\n",
            "313/313 [==============================] - 2s 5ms/step - loss: 0.1341 - accuracy: 0.9541 - val_loss: 6.3031 - val_accuracy: 0.4607\n",
            "Epoch 104/150\n",
            "313/313 [==============================] - 2s 5ms/step - loss: 0.1429 - accuracy: 0.9518 - val_loss: 6.2130 - val_accuracy: 0.4649\n",
            "Epoch 105/150\n",
            "313/313 [==============================] - 2s 5ms/step - loss: 0.1249 - accuracy: 0.9568 - val_loss: 6.2945 - val_accuracy: 0.4695\n",
            "Epoch 106/150\n",
            "313/313 [==============================] - 2s 5ms/step - loss: 0.1324 - accuracy: 0.9558 - val_loss: 6.2562 - val_accuracy: 0.4589\n",
            "Epoch 107/150\n",
            "313/313 [==============================] - 2s 6ms/step - loss: 0.0965 - accuracy: 0.9679 - val_loss: 6.2896 - val_accuracy: 0.4680\n",
            "Epoch 108/150\n",
            "313/313 [==============================] - 2s 7ms/step - loss: 0.1038 - accuracy: 0.9651 - val_loss: 6.4397 - val_accuracy: 0.4574\n",
            "Epoch 109/150\n",
            "313/313 [==============================] - 2s 6ms/step - loss: 0.1656 - accuracy: 0.9471 - val_loss: 6.2375 - val_accuracy: 0.4633\n",
            "Epoch 110/150\n",
            "313/313 [==============================] - 2s 5ms/step - loss: 0.1283 - accuracy: 0.9575 - val_loss: 6.4234 - val_accuracy: 0.4682\n",
            "Epoch 111/150\n",
            "313/313 [==============================] - 2s 5ms/step - loss: 0.1216 - accuracy: 0.9601 - val_loss: 6.4708 - val_accuracy: 0.4675\n",
            "Epoch 112/150\n",
            "313/313 [==============================] - 2s 5ms/step - loss: 0.1230 - accuracy: 0.9596 - val_loss: 6.5077 - val_accuracy: 0.4631\n",
            "Epoch 113/150\n",
            "313/313 [==============================] - 2s 5ms/step - loss: 0.1042 - accuracy: 0.9642 - val_loss: 6.4938 - val_accuracy: 0.4659\n",
            "Epoch 114/150\n",
            "313/313 [==============================] - 2s 6ms/step - loss: 0.1044 - accuracy: 0.9652 - val_loss: 6.5272 - val_accuracy: 0.4704\n",
            "Epoch 115/150\n",
            "313/313 [==============================] - 2s 8ms/step - loss: 0.1119 - accuracy: 0.9619 - val_loss: 6.7899 - val_accuracy: 0.4537\n",
            "Epoch 116/150\n",
            "313/313 [==============================] - 2s 6ms/step - loss: 0.1612 - accuracy: 0.9490 - val_loss: 6.6207 - val_accuracy: 0.4678\n",
            "Epoch 117/150\n",
            "313/313 [==============================] - 2s 5ms/step - loss: 0.1141 - accuracy: 0.9627 - val_loss: 6.6898 - val_accuracy: 0.4655\n",
            "Epoch 118/150\n",
            "313/313 [==============================] - 2s 5ms/step - loss: 0.1020 - accuracy: 0.9655 - val_loss: 6.6784 - val_accuracy: 0.4630\n",
            "Epoch 119/150\n",
            "313/313 [==============================] - 2s 5ms/step - loss: 0.1332 - accuracy: 0.9566 - val_loss: 6.7357 - val_accuracy: 0.4591\n",
            "Epoch 120/150\n",
            "313/313 [==============================] - 2s 5ms/step - loss: 0.0876 - accuracy: 0.9703 - val_loss: 6.8568 - val_accuracy: 0.4611\n",
            "Epoch 121/150\n",
            "313/313 [==============================] - 2s 6ms/step - loss: 0.1266 - accuracy: 0.9590 - val_loss: 6.9075 - val_accuracy: 0.4639\n",
            "Epoch 122/150\n",
            "313/313 [==============================] - 2s 7ms/step - loss: 0.1114 - accuracy: 0.9633 - val_loss: 6.8785 - val_accuracy: 0.4607\n",
            "Epoch 123/150\n",
            "313/313 [==============================] - 2s 5ms/step - loss: 0.1319 - accuracy: 0.9564 - val_loss: 6.8520 - val_accuracy: 0.4616\n",
            "Epoch 124/150\n",
            "313/313 [==============================] - 2s 5ms/step - loss: 0.1184 - accuracy: 0.9607 - val_loss: 6.8798 - val_accuracy: 0.4621\n",
            "Epoch 125/150\n",
            "313/313 [==============================] - 2s 5ms/step - loss: 0.0908 - accuracy: 0.9693 - val_loss: 6.9032 - val_accuracy: 0.4639\n",
            "Epoch 126/150\n",
            "313/313 [==============================] - 2s 5ms/step - loss: 0.1041 - accuracy: 0.9663 - val_loss: 6.9740 - val_accuracy: 0.4641\n",
            "Epoch 127/150\n",
            "313/313 [==============================] - 2s 5ms/step - loss: 0.1410 - accuracy: 0.9549 - val_loss: 7.0035 - val_accuracy: 0.4619\n",
            "Epoch 128/150\n",
            "313/313 [==============================] - 2s 5ms/step - loss: 0.1163 - accuracy: 0.9621 - val_loss: 7.0377 - val_accuracy: 0.4601\n",
            "Epoch 129/150\n",
            "313/313 [==============================] - 3s 8ms/step - loss: 0.1040 - accuracy: 0.9650 - val_loss: 7.0353 - val_accuracy: 0.4644\n",
            "Epoch 130/150\n",
            "313/313 [==============================] - 2s 5ms/step - loss: 0.1120 - accuracy: 0.9644 - val_loss: 7.1593 - val_accuracy: 0.4698\n",
            "Epoch 131/150\n",
            "313/313 [==============================] - 2s 6ms/step - loss: 0.0799 - accuracy: 0.9730 - val_loss: 7.1718 - val_accuracy: 0.4674\n",
            "Epoch 132/150\n",
            "313/313 [==============================] - 2s 5ms/step - loss: 0.1212 - accuracy: 0.9608 - val_loss: 7.1948 - val_accuracy: 0.4603\n",
            "Epoch 133/150\n",
            "313/313 [==============================] - 2s 5ms/step - loss: 0.1162 - accuracy: 0.9631 - val_loss: 7.3167 - val_accuracy: 0.4563\n",
            "Epoch 134/150\n",
            "313/313 [==============================] - 2s 5ms/step - loss: 0.0896 - accuracy: 0.9702 - val_loss: 7.2929 - val_accuracy: 0.4608\n",
            "Epoch 135/150\n",
            "313/313 [==============================] - 2s 7ms/step - loss: 0.1099 - accuracy: 0.9637 - val_loss: 7.2669 - val_accuracy: 0.4626\n",
            "Epoch 136/150\n",
            "313/313 [==============================] - 2s 7ms/step - loss: 0.1421 - accuracy: 0.9561 - val_loss: 7.3571 - val_accuracy: 0.4633\n",
            "Epoch 137/150\n",
            "313/313 [==============================] - 2s 5ms/step - loss: 0.1181 - accuracy: 0.9614 - val_loss: 7.2857 - val_accuracy: 0.4610\n",
            "Epoch 138/150\n",
            "313/313 [==============================] - 2s 5ms/step - loss: 0.0751 - accuracy: 0.9752 - val_loss: 7.3434 - val_accuracy: 0.4643\n",
            "Epoch 139/150\n",
            "313/313 [==============================] - 2s 5ms/step - loss: 0.0876 - accuracy: 0.9706 - val_loss: 7.3316 - val_accuracy: 0.4578\n",
            "Epoch 140/150\n",
            "313/313 [==============================] - 2s 5ms/step - loss: 0.1500 - accuracy: 0.9544 - val_loss: 7.3767 - val_accuracy: 0.4563\n",
            "Epoch 141/150\n",
            "313/313 [==============================] - 2s 5ms/step - loss: 0.1031 - accuracy: 0.9664 - val_loss: 7.3129 - val_accuracy: 0.4629\n",
            "Epoch 142/150\n",
            "313/313 [==============================] - 2s 6ms/step - loss: 0.0912 - accuracy: 0.9699 - val_loss: 7.5596 - val_accuracy: 0.4597\n",
            "Epoch 143/150\n",
            "313/313 [==============================] - 2s 7ms/step - loss: 0.1085 - accuracy: 0.9641 - val_loss: 7.4273 - val_accuracy: 0.4683\n",
            "Epoch 144/150\n",
            "313/313 [==============================] - 2s 6ms/step - loss: 0.0931 - accuracy: 0.9700 - val_loss: 7.4959 - val_accuracy: 0.4688\n",
            "Epoch 145/150\n",
            "313/313 [==============================] - 2s 5ms/step - loss: 0.1060 - accuracy: 0.9666 - val_loss: 7.5735 - val_accuracy: 0.4675\n",
            "Epoch 146/150\n",
            "313/313 [==============================] - 2s 5ms/step - loss: 0.1015 - accuracy: 0.9664 - val_loss: 7.4845 - val_accuracy: 0.4647\n",
            "Epoch 147/150\n",
            "313/313 [==============================] - 2s 5ms/step - loss: 0.0879 - accuracy: 0.9711 - val_loss: 7.6389 - val_accuracy: 0.4641\n",
            "Epoch 148/150\n",
            "313/313 [==============================] - 2s 5ms/step - loss: 0.1271 - accuracy: 0.9600 - val_loss: 7.7047 - val_accuracy: 0.4632\n",
            "Epoch 149/150\n",
            "313/313 [==============================] - 2s 7ms/step - loss: 0.0933 - accuracy: 0.9690 - val_loss: 7.8088 - val_accuracy: 0.4618\n",
            "Epoch 150/150\n",
            "313/313 [==============================] - 2s 6ms/step - loss: 0.1049 - accuracy: 0.9669 - val_loss: 7.6696 - val_accuracy: 0.4679\n"
          ]
        }
      ]
    },
    {
      "cell_type": "markdown",
      "source": [
        "# 2.3. Exercise\n",
        "Based on the modifications above, and by any further modifications (e.g. more layers, less layers, more neurons/layer, etc.) to the model design, find a combination that is able to achieve **validation accuracy, that is higher than 53%**.\n"
      ],
      "metadata": {
        "id": "j1tGVPdD-pp3"
      }
    },
    {
      "cell_type": "code",
      "source": [
        "es = EarlyStopping(\n",
        "    monitor='val_accuracy',\n",
        "    min_delta=0,\n",
        "    patience=6,\n",
        "    verbose=1,\n",
        "    mode='auto',\n",
        "    baseline=None,\n",
        "    restore_best_weights=True,\n",
        "    start_from_epoch=1000000000\n",
        ")"
      ],
      "metadata": {
        "id": "5dBQxJHIHrbd"
      },
      "execution_count": 72,
      "outputs": []
    },
    {
      "cell_type": "code",
      "source": [
        "# model definition\n",
        "model = Sequential()\n",
        "initiliazer = LecunUniform()\n",
        "model.add(Dense(128, activation='relu', kernel_initializer=initiliazer, input_shape=(flattened_dim,)))\n",
        "model.add(Dropout(.35, input_shape=(2,)))\n",
        "model.add(Dense(128, activation='relu', kernel_initializer=initiliazer, input_shape=(flattened_dim,)))\n",
        "model.add(Dense(128, activation='relu', kernel_initializer=initiliazer, input_shape=(flattened_dim,)))\n",
        "model.add(Dense(128, activation='relu', kernel_initializer=initiliazer, input_shape=(flattened_dim,)))\n",
        "# model.add(Dropout(.2, input_shape=(2,)))\n",
        "model.add(Dense(nb_classes, activation='softmax'))\n",
        "\n",
        "# loss function and optimizer\n",
        "model.compile(loss='categorical_crossentropy', optimizer='adam', metrics=['accuracy'])"
      ],
      "metadata": {
        "id": "PuxHOqLt-3Nd"
      },
      "execution_count": 73,
      "outputs": []
    },
    {
      "cell_type": "code",
      "source": [
        "# training\n",
        "network_history = model.fit(X_train, Y_train, \n",
        "                            validation_data=(X_valid,Y_valid),\n",
        "                            batch_size=128,                             \n",
        "                            epochs=100, \n",
        "                            verbose=1,\n",
        "                            callbacks=[es])\n",
        "\n",
        "# callbacks=[es]"
      ],
      "metadata": {
        "id": "u8tFNCNVHyt9",
        "colab": {
          "base_uri": "https://localhost:8080/"
        },
        "outputId": "dd7dae0f-839e-42d7-bc5b-855a6217cf5e"
      },
      "execution_count": 74,
      "outputs": [
        {
          "output_type": "stream",
          "name": "stdout",
          "text": [
            "Epoch 1/100\n",
            "313/313 [==============================] - 4s 6ms/step - loss: 1.8594 - accuracy: 0.3332 - val_loss: 1.7090 - val_accuracy: 0.3957\n",
            "Epoch 2/100\n",
            "313/313 [==============================] - 2s 5ms/step - loss: 1.6866 - accuracy: 0.3995 - val_loss: 1.6090 - val_accuracy: 0.4333\n",
            "Epoch 3/100\n",
            "313/313 [==============================] - 1s 5ms/step - loss: 1.6149 - accuracy: 0.4238 - val_loss: 1.5441 - val_accuracy: 0.4583\n",
            "Epoch 4/100\n",
            "313/313 [==============================] - 1s 4ms/step - loss: 1.5720 - accuracy: 0.4403 - val_loss: 1.5170 - val_accuracy: 0.4674\n",
            "Epoch 5/100\n",
            "313/313 [==============================] - 2s 5ms/step - loss: 1.5313 - accuracy: 0.4543 - val_loss: 1.4958 - val_accuracy: 0.4728\n",
            "Epoch 6/100\n",
            "313/313 [==============================] - 1s 4ms/step - loss: 1.4946 - accuracy: 0.4697 - val_loss: 1.4848 - val_accuracy: 0.4797\n",
            "Epoch 7/100\n",
            "313/313 [==============================] - 2s 5ms/step - loss: 1.4696 - accuracy: 0.4800 - val_loss: 1.4776 - val_accuracy: 0.4825\n",
            "Epoch 8/100\n",
            "313/313 [==============================] - 2s 6ms/step - loss: 1.4481 - accuracy: 0.4857 - val_loss: 1.4449 - val_accuracy: 0.4856\n",
            "Epoch 9/100\n",
            "313/313 [==============================] - 1s 5ms/step - loss: 1.4251 - accuracy: 0.4929 - val_loss: 1.4186 - val_accuracy: 0.5064\n",
            "Epoch 10/100\n",
            "313/313 [==============================] - 2s 5ms/step - loss: 1.4083 - accuracy: 0.4996 - val_loss: 1.4278 - val_accuracy: 0.4981\n",
            "Epoch 11/100\n",
            "313/313 [==============================] - 1s 5ms/step - loss: 1.3930 - accuracy: 0.5057 - val_loss: 1.4171 - val_accuracy: 0.5019\n",
            "Epoch 12/100\n",
            "313/313 [==============================] - 1s 5ms/step - loss: 1.3685 - accuracy: 0.5102 - val_loss: 1.4031 - val_accuracy: 0.5080\n",
            "Epoch 13/100\n",
            "313/313 [==============================] - 2s 5ms/step - loss: 1.3583 - accuracy: 0.5182 - val_loss: 1.3904 - val_accuracy: 0.5108\n",
            "Epoch 14/100\n",
            "313/313 [==============================] - 2s 5ms/step - loss: 1.3475 - accuracy: 0.5180 - val_loss: 1.3864 - val_accuracy: 0.5143\n",
            "Epoch 15/100\n",
            "313/313 [==============================] - 2s 6ms/step - loss: 1.3257 - accuracy: 0.5302 - val_loss: 1.4068 - val_accuracy: 0.5069\n",
            "Epoch 16/100\n",
            "313/313 [==============================] - 2s 6ms/step - loss: 1.3122 - accuracy: 0.5316 - val_loss: 1.3929 - val_accuracy: 0.5076\n",
            "Epoch 17/100\n",
            "313/313 [==============================] - 1s 5ms/step - loss: 1.3049 - accuracy: 0.5351 - val_loss: 1.3632 - val_accuracy: 0.5225\n",
            "Epoch 18/100\n",
            "313/313 [==============================] - 1s 5ms/step - loss: 1.2942 - accuracy: 0.5383 - val_loss: 1.3882 - val_accuracy: 0.5118\n",
            "Epoch 19/100\n",
            "313/313 [==============================] - 1s 5ms/step - loss: 1.2842 - accuracy: 0.5389 - val_loss: 1.3632 - val_accuracy: 0.5203\n",
            "Epoch 20/100\n",
            "313/313 [==============================] - 1s 5ms/step - loss: 1.2758 - accuracy: 0.5429 - val_loss: 1.3597 - val_accuracy: 0.5214\n",
            "Epoch 21/100\n",
            "313/313 [==============================] - 1s 4ms/step - loss: 1.2606 - accuracy: 0.5497 - val_loss: 1.3558 - val_accuracy: 0.5266\n",
            "Epoch 22/100\n",
            "313/313 [==============================] - 1s 5ms/step - loss: 1.2559 - accuracy: 0.5518 - val_loss: 1.3785 - val_accuracy: 0.5225\n",
            "Epoch 23/100\n",
            "313/313 [==============================] - 2s 6ms/step - loss: 1.2494 - accuracy: 0.5537 - val_loss: 1.3642 - val_accuracy: 0.5289\n",
            "Epoch 24/100\n",
            "313/313 [==============================] - 2s 6ms/step - loss: 1.2411 - accuracy: 0.5566 - val_loss: 1.3576 - val_accuracy: 0.5227\n",
            "Epoch 25/100\n",
            "313/313 [==============================] - 1s 5ms/step - loss: 1.2301 - accuracy: 0.5587 - val_loss: 1.3607 - val_accuracy: 0.5233\n",
            "Epoch 26/100\n",
            "313/313 [==============================] - 1s 5ms/step - loss: 1.2241 - accuracy: 0.5638 - val_loss: 1.3546 - val_accuracy: 0.5206\n",
            "Epoch 27/100\n",
            "313/313 [==============================] - 1s 5ms/step - loss: 1.2152 - accuracy: 0.5673 - val_loss: 1.3630 - val_accuracy: 0.5206\n",
            "Epoch 28/100\n",
            "313/313 [==============================] - 2s 5ms/step - loss: 1.2064 - accuracy: 0.5704 - val_loss: 1.3426 - val_accuracy: 0.5303\n",
            "Epoch 29/100\n",
            "313/313 [==============================] - 1s 5ms/step - loss: 1.2018 - accuracy: 0.5696 - val_loss: 1.3406 - val_accuracy: 0.5297\n",
            "Epoch 30/100\n",
            "313/313 [==============================] - 1s 5ms/step - loss: 1.1928 - accuracy: 0.5764 - val_loss: 1.3407 - val_accuracy: 0.5289\n",
            "Epoch 31/100\n",
            "313/313 [==============================] - 2s 6ms/step - loss: 1.1805 - accuracy: 0.5817 - val_loss: 1.3611 - val_accuracy: 0.5248\n",
            "Epoch 32/100\n",
            "313/313 [==============================] - 2s 6ms/step - loss: 1.1792 - accuracy: 0.5797 - val_loss: 1.3394 - val_accuracy: 0.5291\n",
            "Epoch 33/100\n",
            "313/313 [==============================] - 2s 5ms/step - loss: 1.1737 - accuracy: 0.5805 - val_loss: 1.3428 - val_accuracy: 0.5324\n",
            "Epoch 34/100\n",
            "313/313 [==============================] - 2s 5ms/step - loss: 1.1611 - accuracy: 0.5857 - val_loss: 1.3469 - val_accuracy: 0.5303\n",
            "Epoch 35/100\n",
            "313/313 [==============================] - 1s 4ms/step - loss: 1.1621 - accuracy: 0.5856 - val_loss: 1.3573 - val_accuracy: 0.5266\n",
            "Epoch 36/100\n",
            "313/313 [==============================] - 1s 5ms/step - loss: 1.1561 - accuracy: 0.5852 - val_loss: 1.3573 - val_accuracy: 0.5305\n",
            "Epoch 37/100\n",
            "313/313 [==============================] - 2s 5ms/step - loss: 1.1454 - accuracy: 0.5901 - val_loss: 1.3423 - val_accuracy: 0.5321\n",
            "Epoch 38/100\n",
            "313/313 [==============================] - 2s 5ms/step - loss: 1.1358 - accuracy: 0.5913 - val_loss: 1.3359 - val_accuracy: 0.5324\n",
            "Epoch 39/100\n",
            "313/313 [==============================] - 2s 6ms/step - loss: 1.1373 - accuracy: 0.5902 - val_loss: 1.3506 - val_accuracy: 0.5263\n",
            "Epoch 40/100\n",
            "313/313 [==============================] - 2s 5ms/step - loss: 1.1255 - accuracy: 0.5985 - val_loss: 1.3511 - val_accuracy: 0.5281\n",
            "Epoch 41/100\n",
            "313/313 [==============================] - 2s 5ms/step - loss: 1.1231 - accuracy: 0.5993 - val_loss: 1.3436 - val_accuracy: 0.5323\n",
            "Epoch 42/100\n",
            "313/313 [==============================] - 2s 5ms/step - loss: 1.1180 - accuracy: 0.6000 - val_loss: 1.3512 - val_accuracy: 0.5246\n",
            "Epoch 43/100\n",
            "313/313 [==============================] - 2s 5ms/step - loss: 1.1109 - accuracy: 0.6031 - val_loss: 1.3599 - val_accuracy: 0.5235\n",
            "Epoch 44/100\n",
            "313/313 [==============================] - 2s 5ms/step - loss: 1.1085 - accuracy: 0.6025 - val_loss: 1.3460 - val_accuracy: 0.5313\n",
            "Epoch 45/100\n",
            "313/313 [==============================] - 1s 4ms/step - loss: 1.0966 - accuracy: 0.6073 - val_loss: 1.3509 - val_accuracy: 0.5296\n",
            "Epoch 46/100\n",
            "313/313 [==============================] - 2s 5ms/step - loss: 1.1013 - accuracy: 0.6070 - val_loss: 1.3503 - val_accuracy: 0.5292\n",
            "Epoch 47/100\n",
            "313/313 [==============================] - 2s 6ms/step - loss: 1.0933 - accuracy: 0.6076 - val_loss: 1.3729 - val_accuracy: 0.5292\n",
            "Epoch 48/100\n",
            "313/313 [==============================] - 2s 5ms/step - loss: 1.0947 - accuracy: 0.6058 - val_loss: 1.3629 - val_accuracy: 0.5284\n",
            "Epoch 49/100\n",
            "313/313 [==============================] - 1s 5ms/step - loss: 1.0847 - accuracy: 0.6109 - val_loss: 1.3600 - val_accuracy: 0.5270\n",
            "Epoch 50/100\n",
            "313/313 [==============================] - 1s 5ms/step - loss: 1.0719 - accuracy: 0.6150 - val_loss: 1.3512 - val_accuracy: 0.5305\n",
            "Epoch 51/100\n",
            "313/313 [==============================] - 1s 5ms/step - loss: 1.0779 - accuracy: 0.6134 - val_loss: 1.3508 - val_accuracy: 0.5325\n",
            "Epoch 52/100\n",
            "313/313 [==============================] - 2s 5ms/step - loss: 1.0695 - accuracy: 0.6185 - val_loss: 1.3632 - val_accuracy: 0.5299\n",
            "Epoch 53/100\n",
            "313/313 [==============================] - 1s 5ms/step - loss: 1.0649 - accuracy: 0.6187 - val_loss: 1.3643 - val_accuracy: 0.5310\n",
            "Epoch 54/100\n",
            "313/313 [==============================] - 2s 5ms/step - loss: 1.0565 - accuracy: 0.6207 - val_loss: 1.3418 - val_accuracy: 0.5327\n",
            "Epoch 55/100\n",
            "313/313 [==============================] - 2s 6ms/step - loss: 1.0547 - accuracy: 0.6206 - val_loss: 1.3527 - val_accuracy: 0.5360\n",
            "Epoch 56/100\n",
            "313/313 [==============================] - 2s 5ms/step - loss: 1.0583 - accuracy: 0.6195 - val_loss: 1.3628 - val_accuracy: 0.5268\n",
            "Epoch 57/100\n",
            "313/313 [==============================] - 2s 5ms/step - loss: 1.0486 - accuracy: 0.6255 - val_loss: 1.3487 - val_accuracy: 0.5377\n",
            "Epoch 58/100\n",
            "313/313 [==============================] - 2s 5ms/step - loss: 1.0460 - accuracy: 0.6270 - val_loss: 1.3492 - val_accuracy: 0.5365\n",
            "Epoch 59/100\n",
            "313/313 [==============================] - 2s 5ms/step - loss: 1.0399 - accuracy: 0.6271 - val_loss: 1.3799 - val_accuracy: 0.5311\n",
            "Epoch 60/100\n",
            "313/313 [==============================] - 2s 5ms/step - loss: 1.0389 - accuracy: 0.6287 - val_loss: 1.3575 - val_accuracy: 0.5323\n",
            "Epoch 61/100\n",
            "313/313 [==============================] - 1s 5ms/step - loss: 1.0352 - accuracy: 0.6300 - val_loss: 1.3671 - val_accuracy: 0.5272\n",
            "Epoch 62/100\n",
            "313/313 [==============================] - 2s 6ms/step - loss: 1.0273 - accuracy: 0.6310 - val_loss: 1.3637 - val_accuracy: 0.5310\n",
            "Epoch 63/100\n",
            "313/313 [==============================] - 2s 6ms/step - loss: 1.0326 - accuracy: 0.6307 - val_loss: 1.3775 - val_accuracy: 0.5341\n",
            "Epoch 64/100\n",
            "313/313 [==============================] - 1s 5ms/step - loss: 1.0274 - accuracy: 0.6371 - val_loss: 1.3519 - val_accuracy: 0.5356\n",
            "Epoch 65/100\n",
            "313/313 [==============================] - 2s 5ms/step - loss: 1.0270 - accuracy: 0.6314 - val_loss: 1.3619 - val_accuracy: 0.5345\n",
            "Epoch 66/100\n",
            "313/313 [==============================] - 2s 5ms/step - loss: 1.0201 - accuracy: 0.6335 - val_loss: 1.3717 - val_accuracy: 0.5324\n",
            "Epoch 67/100\n",
            "313/313 [==============================] - 1s 5ms/step - loss: 1.0157 - accuracy: 0.6366 - val_loss: 1.3779 - val_accuracy: 0.5364\n",
            "Epoch 68/100\n",
            "313/313 [==============================] - 2s 5ms/step - loss: 1.0083 - accuracy: 0.6389 - val_loss: 1.3800 - val_accuracy: 0.5359\n",
            "Epoch 69/100\n",
            "313/313 [==============================] - 2s 5ms/step - loss: 1.0096 - accuracy: 0.6388 - val_loss: 1.3645 - val_accuracy: 0.5349\n",
            "Epoch 70/100\n",
            "313/313 [==============================] - 2s 6ms/step - loss: 0.9993 - accuracy: 0.6441 - val_loss: 1.3717 - val_accuracy: 0.5312\n",
            "Epoch 71/100\n",
            "313/313 [==============================] - 2s 5ms/step - loss: 1.0060 - accuracy: 0.6405 - val_loss: 1.3937 - val_accuracy: 0.5344\n",
            "Epoch 72/100\n",
            "313/313 [==============================] - 2s 5ms/step - loss: 0.9957 - accuracy: 0.6430 - val_loss: 1.3857 - val_accuracy: 0.5314\n",
            "Epoch 73/100\n",
            "313/313 [==============================] - 1s 5ms/step - loss: 0.9947 - accuracy: 0.6432 - val_loss: 1.3669 - val_accuracy: 0.5375\n",
            "Epoch 74/100\n",
            "313/313 [==============================] - 2s 5ms/step - loss: 0.9913 - accuracy: 0.6457 - val_loss: 1.3582 - val_accuracy: 0.5396\n",
            "Epoch 75/100\n",
            "313/313 [==============================] - 2s 5ms/step - loss: 0.9891 - accuracy: 0.6455 - val_loss: 1.3883 - val_accuracy: 0.5351\n",
            "Epoch 76/100\n",
            "313/313 [==============================] - 1s 5ms/step - loss: 0.9829 - accuracy: 0.6467 - val_loss: 1.3705 - val_accuracy: 0.5358\n",
            "Epoch 77/100\n",
            "313/313 [==============================] - 2s 5ms/step - loss: 0.9732 - accuracy: 0.6529 - val_loss: 1.3858 - val_accuracy: 0.5333\n",
            "Epoch 78/100\n",
            "313/313 [==============================] - 2s 6ms/step - loss: 0.9871 - accuracy: 0.6480 - val_loss: 1.3784 - val_accuracy: 0.5396\n",
            "Epoch 79/100\n",
            "313/313 [==============================] - 2s 5ms/step - loss: 0.9771 - accuracy: 0.6486 - val_loss: 1.3940 - val_accuracy: 0.5255\n",
            "Epoch 80/100\n",
            "313/313 [==============================] - 1s 5ms/step - loss: 0.9737 - accuracy: 0.6528 - val_loss: 1.3715 - val_accuracy: 0.5361\n",
            "Epoch 81/100\n",
            "313/313 [==============================] - 2s 5ms/step - loss: 0.9610 - accuracy: 0.6560 - val_loss: 1.3910 - val_accuracy: 0.5281\n",
            "Epoch 82/100\n",
            "313/313 [==============================] - 1s 5ms/step - loss: 0.9690 - accuracy: 0.6526 - val_loss: 1.3906 - val_accuracy: 0.5302\n",
            "Epoch 83/100\n",
            "313/313 [==============================] - 2s 5ms/step - loss: 0.9648 - accuracy: 0.6536 - val_loss: 1.4033 - val_accuracy: 0.5295\n",
            "Epoch 84/100\n",
            "313/313 [==============================] - 1s 5ms/step - loss: 0.9654 - accuracy: 0.6562 - val_loss: 1.4021 - val_accuracy: 0.5385\n",
            "Epoch 85/100\n",
            "313/313 [==============================] - 2s 6ms/step - loss: 0.9587 - accuracy: 0.6565 - val_loss: 1.4002 - val_accuracy: 0.5353\n",
            "Epoch 86/100\n",
            "313/313 [==============================] - 2s 6ms/step - loss: 0.9557 - accuracy: 0.6575 - val_loss: 1.4125 - val_accuracy: 0.5298\n",
            "Epoch 87/100\n",
            "313/313 [==============================] - 2s 5ms/step - loss: 0.9479 - accuracy: 0.6594 - val_loss: 1.3917 - val_accuracy: 0.5375\n",
            "Epoch 88/100\n",
            "313/313 [==============================] - 2s 5ms/step - loss: 0.9493 - accuracy: 0.6624 - val_loss: 1.3974 - val_accuracy: 0.5337\n",
            "Epoch 89/100\n",
            "313/313 [==============================] - 2s 5ms/step - loss: 0.9479 - accuracy: 0.6623 - val_loss: 1.4005 - val_accuracy: 0.5375\n",
            "Epoch 90/100\n",
            "313/313 [==============================] - 2s 5ms/step - loss: 0.9408 - accuracy: 0.6631 - val_loss: 1.4032 - val_accuracy: 0.5336\n",
            "Epoch 91/100\n",
            "313/313 [==============================] - 2s 5ms/step - loss: 0.9424 - accuracy: 0.6633 - val_loss: 1.3915 - val_accuracy: 0.5365\n",
            "Epoch 92/100\n",
            "313/313 [==============================] - 1s 5ms/step - loss: 0.9376 - accuracy: 0.6692 - val_loss: 1.4108 - val_accuracy: 0.5336\n",
            "Epoch 93/100\n",
            "313/313 [==============================] - 2s 6ms/step - loss: 0.9403 - accuracy: 0.6648 - val_loss: 1.4090 - val_accuracy: 0.5310\n",
            "Epoch 94/100\n",
            "313/313 [==============================] - 2s 5ms/step - loss: 0.9366 - accuracy: 0.6663 - val_loss: 1.3886 - val_accuracy: 0.5331\n",
            "Epoch 95/100\n",
            "313/313 [==============================] - 2s 5ms/step - loss: 0.9311 - accuracy: 0.6694 - val_loss: 1.4040 - val_accuracy: 0.5314\n",
            "Epoch 96/100\n",
            "313/313 [==============================] - 1s 5ms/step - loss: 0.9379 - accuracy: 0.6672 - val_loss: 1.4020 - val_accuracy: 0.5337\n",
            "Epoch 97/100\n",
            "313/313 [==============================] - 2s 5ms/step - loss: 0.9328 - accuracy: 0.6676 - val_loss: 1.3955 - val_accuracy: 0.5308\n",
            "Epoch 98/100\n",
            "313/313 [==============================] - 2s 5ms/step - loss: 0.9278 - accuracy: 0.6693 - val_loss: 1.3934 - val_accuracy: 0.5374\n",
            "Epoch 99/100\n",
            "313/313 [==============================] - 1s 5ms/step - loss: 0.9240 - accuracy: 0.6709 - val_loss: 1.4028 - val_accuracy: 0.5380\n",
            "Epoch 100/100\n",
            "313/313 [==============================] - 2s 5ms/step - loss: 0.9188 - accuracy: 0.6712 - val_loss: 1.4093 - val_accuracy: 0.5330\n"
          ]
        }
      ]
    },
    {
      "cell_type": "markdown",
      "source": [
        "# 3. Evaluation on test data and inference\n",
        "At this point, we will perform a basic evaluation and inference. With the model.evaluate function, the same metrics are calculated, that were used during training:"
      ],
      "metadata": {
        "id": "2FtKp-a2-A9m"
      }
    },
    {
      "cell_type": "code",
      "source": [
        "print(model.evaluate(X_test, Y_test))"
      ],
      "metadata": {
        "id": "I3_9wgDREUna",
        "colab": {
          "base_uri": "https://localhost:8080/"
        },
        "outputId": "90098f73-b08d-4aee-ea73-768f815b4e66"
      },
      "execution_count": 75,
      "outputs": [
        {
          "output_type": "stream",
          "name": "stdout",
          "text": [
            "313/313 [==============================] - 1s 3ms/step - loss: 1.4059 - accuracy: 0.5316\n",
            "[1.4058616161346436, 0.5315999984741211]\n"
          ]
        }
      ]
    },
    {
      "cell_type": "markdown",
      "source": [
        "we would like to see similar values, as in the validation set. If those are close to each other, then the generalization ability of the model is good (in case of an independent test-set)."
      ],
      "metadata": {
        "id": "ECHguBFtGL7f"
      }
    },
    {
      "cell_type": "markdown",
      "source": [
        "## 3.1. Exercise\n",
        "Predict the class of the first 10 elements in the test set, and compare the predicted values with the actual, target values in the test set. Hints:\n",
        "* you can use [model.predict](https://www.activestate.com/resources/quick-reads/how-to-use-a-model-to-do-predictions-with-keras/) for prediction\n",
        "* from the output you can select the largest value with the [argmax() function of Numpy](https://stackoverflow.com/questions/62358642/convert-one-hot-encoding-back-to-number-label). As there are multiple values, you have to call it with axis=1 parameter.\n",
        "* it is enought to compare the predictions and the targets by printing the values out and inspecting them."
      ],
      "metadata": {
        "id": "0Io4zYJeHjz6"
      }
    },
    {
      "cell_type": "code",
      "source": [
        "preds = model.predict(X_test[:10])\n",
        "preds_dense = np.argmax(preds, axis=1)"
      ],
      "metadata": {
        "id": "XEEyU7exILqF",
        "colab": {
          "base_uri": "https://localhost:8080/"
        },
        "outputId": "94be33f9-4891-4b5d-c5d7-b12955005e94"
      },
      "execution_count": 76,
      "outputs": [
        {
          "output_type": "stream",
          "name": "stdout",
          "text": [
            "1/1 [==============================] - 0s 102ms/step\n"
          ]
        }
      ]
    },
    {
      "cell_type": "markdown",
      "source": [
        "Before comparision, you have to convert back the one-hot encoded target values the same way, as you converted the output of the neural network to class values with argmax() function."
      ],
      "metadata": {
        "id": "seZTEFI-I5cZ"
      }
    },
    {
      "cell_type": "code",
      "source": [
        "print(\"Target labels:\", np.argmax(Y_test[:10],axis=1))\n",
        "print(\"Predicted labels:\", preds_dense)"
      ],
      "metadata": {
        "id": "PHLvoMuIIkJ6",
        "colab": {
          "base_uri": "https://localhost:8080/"
        },
        "outputId": "e5763ef6-ec85-4f5e-ae1a-02fc1adeb01a"
      },
      "execution_count": 77,
      "outputs": [
        {
          "output_type": "stream",
          "name": "stdout",
          "text": [
            "Target labels: [3 8 8 0 6 6 1 6 3 1]\n",
            "Predicted labels: [5 8 8 8 4 6 3 6 4 1]\n"
          ]
        }
      ]
    },
    {
      "cell_type": "code",
      "source": [],
      "metadata": {
        "id": "FKlmwDXEuG5J"
      },
      "execution_count": null,
      "outputs": []
    }
  ]
}