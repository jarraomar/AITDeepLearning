{
  "nbformat": 4,
  "nbformat_minor": 0,
  "metadata": {
    "colab": {
      "provenance": [],
      "authorship_tag": "ABX9TyOPs+RsyW96kya0Dd5urydg",
      "include_colab_link": true
    },
    "kernelspec": {
      "name": "python3",
      "display_name": "Python 3"
    },
    "language_info": {
      "name": "python"
    },
    "accelerator": "GPU",
    "gpuClass": "standard"
  },
  "cells": [
    {
      "cell_type": "markdown",
      "metadata": {
        "id": "view-in-github",
        "colab_type": "text"
      },
      "source": [
        "<a href=\"https://colab.research.google.com/github/jarraomar/AITDeepLearning/blob/main/Assessment1.ipynb\" target=\"_parent\"><img src=\"https://colab.research.google.com/assets/colab-badge.svg\" alt=\"Open In Colab\"/></a>"
      ]
    },
    {
      "cell_type": "code",
      "execution_count": 1,
      "metadata": {
        "id": "PzwEqDHsBtY9"
      },
      "outputs": [],
      "source": [
        "!wget https://www.sons-of-pirate.com/wp-content/uploads/2022/08/straw-hat-flag.jpg -o filename.jpg\n"
      ]
    },
    {
      "cell_type": "code",
      "source": [
        "import cv2\n",
        "\n",
        "# Load the image\n",
        "img = cv2.imread('/content/straw-hat-flag.jpg')\n",
        "\n",
        "# Get the shape of the image\n",
        "h, w, c = img.shape\n",
        "\n",
        "# Define the region to change\n",
        "x, y = w - 30, 0\n",
        "w, h = 30, 30\n",
        "\n",
        "# Create a white rectangle\n",
        "img[y:y+h, x:x+w] = (0, 0, 0)\n",
        "\n",
        "# Save the modified image\n",
        "cv2.imwrite('modified_image.jpg', img)"
      ],
      "metadata": {
        "colab": {
          "base_uri": "https://localhost:8080/"
        },
        "id": "WXQaqfTOEz6M",
        "outputId": "7ed24705-4757-40dd-93be-75b94ae06c13"
      },
      "execution_count": 2,
      "outputs": [
        {
          "output_type": "execute_result",
          "data": {
            "text/plain": [
              "True"
            ]
          },
          "metadata": {},
          "execution_count": 2
        }
      ]
    }
  ]
}