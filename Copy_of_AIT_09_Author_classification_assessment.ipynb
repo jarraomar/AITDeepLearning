{
  "nbformat": 4,
  "nbformat_minor": 0,
  "metadata": {
    "kernelspec": {
      "display_name": "Python 3",
      "language": "python",
      "name": "python3"
    },
    "language_info": {
      "codemirror_mode": {
        "name": "ipython",
        "version": 3
      },
      "file_extension": ".py",
      "mimetype": "text/x-python",
      "name": "python",
      "nbconvert_exporter": "python",
      "pygments_lexer": "ipython3",
      "version": "3.6.6"
    },
    "colab": {
      "provenance": [],
      "include_colab_link": true
    }
  },
  "cells": [
    {
      "cell_type": "markdown",
      "metadata": {
        "id": "view-in-github",
        "colab_type": "text"
      },
      "source": [
        "<a href=\"https://colab.research.google.com/github/jarraomar/AITDeepLearning/blob/main/Copy_of_AIT_09_Author_classification_assessment.ipynb\" target=\"_parent\"><img src=\"https://colab.research.google.com/assets/colab-badge.svg\" alt=\"Open In Colab\"/></a>"
      ]
    },
    {
      "cell_type": "markdown",
      "metadata": {
        "id": "_jiGtJu6u9ml"
      },
      "source": [
        "# Copyright\n",
        "\n",
        "<PRE>\n",
        "Copyright (c) 2023 Bálint Gyires-Tóth - All Rights Reserved\n",
        "You may use and modify this code for research and development purpuses.\n",
        "Use this code for educational purposes (self-paced or instructor led) without the permission of the author is prohibited.\n",
        "</PRE>"
      ]
    },
    {
      "cell_type": "markdown",
      "metadata": {
        "id": "oXyFC44jV-PP"
      },
      "source": [
        "# Author classification\n",
        "The task is to train a 1D CNN or an LSTM that is able to  classify text from two authors. The final model should be able to tell about a text with a given length (e.g. 60 characters) who wrote it. \n",
        "\n",
        "Please write the codes according to the following parts:"
      ]
    },
    {
      "cell_type": "markdown",
      "metadata": {
        "id": "jCnLoeGrHXsp"
      },
      "source": [
        "## Python module imports\n",
        "Import all Python modules that you would need during the Assignment."
      ]
    },
    {
      "cell_type": "code",
      "metadata": {
        "id": "7itbFGt3HXVT"
      },
      "source": [
        "import numpy as np\n",
        "import pandas as pd\n",
        "from tensorflow.keras.models import Sequential\n",
        "from tensorflow.keras.utils import to_categorical\n",
        "from tensorflow.keras.layers import Activation, Dense, Flatten, Conv1D, MaxPooling1D, Dropout\n",
        "from tensorflow.keras.callbacks import EarlyStopping\n",
        "from tensorflow.keras.optimizers import SGD\n",
        "from tensorflow.keras.preprocessing.text import Tokenizer\n",
        "from tensorflow.keras.preprocessing.sequence import pad_sequences\n",
        "from sklearn.model_selection import train_test_split\n",
        "from sklearn.metrics import confusion_matrix, classification_report\n",
        "import tensorflow.keras.utils as ku\n",
        "import matplotlib.pyplot as plt\n",
        "import seaborn as sns"
      ],
      "execution_count": 113,
      "outputs": []
    },
    {
      "cell_type": "markdown",
      "metadata": {
        "id": "Hr617tEpHd8R"
      },
      "source": [
        "## Data acquisition\n",
        "Seek a possible dataset, you can use any source, e.g.\n",
        "* http://www.gutenberg.org/\n",
        "* https://www.kaggle.com/datasets\n",
        "* https://paperswithcode.com/datasets\n",
        "* if you would like to learn Hungarian, than e.g. https://mek.oszk.hu/\n",
        "\n",
        "You can download the text by hand (e.g. by copy-pasting some parts into txt files) or with Python. "
      ]
    },
    {
      "cell_type": "code",
      "metadata": {
        "id": "NgkdQxHqHdZB",
        "colab": {
          "base_uri": "https://localhost:8080/"
        },
        "outputId": "07549cf3-52eb-45f6-e04d-23bd75013f9a"
      },
      "source": [
        "from google.colab import drive\n",
        "import pandas as pd\n",
        "drive.mount('/content/drive')\n",
        "\n",
        "train_data = pd.read_csv('/content/drive/MyDrive/data/train.csv')\n",
        "test_data = pd.read_csv('/content/drive/MyDrive/data/test.csv')\n",
        "sample_submission = pd.read_csv('/content/drive/MyDrive/data/sample_submission.csv')"
      ],
      "execution_count": 114,
      "outputs": [
        {
          "output_type": "stream",
          "name": "stdout",
          "text": [
            "Drive already mounted at /content/drive; to attempt to forcibly remount, call drive.mount(\"/content/drive\", force_remount=True).\n"
          ]
        }
      ]
    },
    {
      "cell_type": "markdown",
      "source": [
        "## Data analysis\n",
        "Count the number of characters from both authors and display them on a plot (e.g. Seaborn's countplot)."
      ],
      "metadata": {
        "id": "U9Pmq91t3SRD"
      }
    },
    {
      "cell_type": "code",
      "source": [
        "train_eap = sum(train_data[train_data['author'] == 'EAP']['text'].str.len())\n",
        "train_mws = sum(train_data[train_data['author'] == 'MWS']['text'].str.len())\n",
        "\n",
        "\n",
        "authors = ['EAP', 'MWS']\n",
        "character_counts = [train_eap, train_mws]\n",
        "fig, ax = plt.subplots()\n",
        "ax.bar(authors, character_counts)\n",
        "ax.set_xlabel('Author')\n",
        "ax.set_ylabel('Character Count')\n",
        "ax.set_title('Character Counts by Author')\n",
        "plt.show()"
      ],
      "metadata": {
        "id": "uRqGdn4F3Spk",
        "colab": {
          "base_uri": "https://localhost:8080/",
          "height": 472
        },
        "outputId": "bcb731e7-f893-4e55-9ddb-1486f6772f80"
      },
      "execution_count": 133,
      "outputs": [
        {
          "output_type": "display_data",
          "data": {
            "text/plain": [
              "<Figure size 640x480 with 1 Axes>"
            ],
            "image/png": "[encoded data removed]"
          },
          "metadata": {}
        }
      ]
    },
    {
      "cell_type": "markdown",
      "metadata": {
        "id": "cHyE_ndGIblJ"
      },
      "source": [
        "## Data loading, labeling and preprocessing\n",
        "Load the data and convert the characters into one-hot encodings. Then load the data into a 3D NumPy array, with a shape of\n",
        "\n",
        "* (batch, sequence_length, alphabet_length)\n",
        "\n",
        "where sequence_length=60, and alphabet_length equals to the number of unique characters in both datasets. The sequences should be cut out from the complete dataset by sliding window. You should add 0 and 1 labels to the sequences, according to the author. \n",
        "\n",
        "Later you may change sequence_length to achieve better results!"
      ]
    },
    {
      "cell_type": "code",
      "source": [
        "# Was able to figure out how to load, label, and preprocess through the help of \n",
        "# chatgpt\n",
        "\n",
        "combined_data = pd.concat([train_data, test_data])\n",
        "unique_chars = sorted(set(''.join(combined_data['text'].values)))\n",
        "char_to_index = dict((c, i) for i, c in enumerate(unique_chars))\n",
        "max_seq_length = 60\n",
        "\n",
        "def text_to_one_hot(text, max_seq_length, char_to_index):\n",
        "    sequence = [char_to_index[c] for c in text if c in char_to_index]\n",
        "    sequence = sequence[:max_seq_length] + [0] * (max_seq_length - len(sequence))\n",
        "    one_hot = ku.to_categorical(sequence, num_classes=len(char_to_index))\n",
        "    return one_hot\n",
        "\n",
        "def generate_dataset(data, max_seq_length, char_to_index):\n",
        "    sequences = []\n",
        "    labels = []\n",
        "    if 'author' in data.columns:\n",
        "        for i, row in data.iterrows():\n",
        "            text = row['text']\n",
        "            author = row['author']\n",
        "            sequence = text_to_one_hot(text, max_seq_length, char_to_index)\n",
        "            sequences.append(sequence)\n",
        "            if author == 'EAP':\n",
        "                label = [1, 0]\n",
        "            elif author == 'MWS':\n",
        "                label = [0, 1]\n",
        "            labels.append(label)\n",
        "    else:\n",
        "        for i, row in data.iterrows():\n",
        "            text = row['text']\n",
        "            sequence = text_to_one_hot(text, max_seq_length, char_to_index)\n",
        "            sequences.append(sequence)\n",
        "            labels.append([0, 0])\n",
        "    return np.array(sequences), np.array(labels)\n",
        "\n",
        "\n",
        "train_sequences, train_labels = generate_dataset(train_data, max_seq_length, char_to_index)\n",
        "test_sequences, test_labels = generate_dataset(test_data, max_seq_length, char_to_index)"
      ],
      "metadata": {
        "id": "_L6uf-BvF6QL"
      },
      "execution_count": 126,
      "outputs": []
    },
    {
      "cell_type": "markdown",
      "metadata": {
        "id": "lL1Mc8ibHnep"
      },
      "source": [
        "## Data splitting\n",
        "Split the data into train, validate and test sets. Make "
      ]
    },
    {
      "cell_type": "code",
      "metadata": {
        "id": "ELyG9XFUHrkB"
      },
      "source": [
        "train_sequences, val_sequences, train_labels, val_labels = train_test_split(\n",
        "    train_sequences, train_labels, test_size=0.2, random_state=42)"
      ],
      "execution_count": 127,
      "outputs": []
    },
    {
      "cell_type": "markdown",
      "metadata": {
        "id": "hA8U9tr7HrNQ"
      },
      "source": [
        "## Model definition\n",
        "Define a 1D CNN or an LSTM for the task. Compile the model with the correct loss function."
      ]
    },
    {
      "cell_type": "code",
      "metadata": {
        "id": "BT1V1s4kHuUe",
        "colab": {
          "base_uri": "https://localhost:8080/"
        },
        "outputId": "923ba425-1058-4928-b65d-76cee5e292f4"
      },
      "source": [
        "model = Sequential()\n",
        "model.add(Conv1D(128, 5, activation='relu', input_shape=train_sequences.shape[1:]))\n",
        "model.add(MaxPooling1D(pool_size=4))\n",
        "model.add(Conv1D(64, 5, activation='relu'))\n",
        "model.add(MaxPooling1D(pool_size=4))\n",
        "model.add(Flatten())\n",
        "model.add(Dense(64, activation='relu'))\n",
        "model.add(Dropout(0.5))\n",
        "model.add(Dense(2, activation='softmax'))\n",
        "model.compile(loss='categorical_crossentropy', optimizer='adam', metrics=['accuracy'])\n",
        "model.summary()"
      ],
      "execution_count": 128,
      "outputs": [
        {
          "output_type": "stream",
          "name": "stdout",
          "text": [
            "Model: \"sequential_6\"\n",
            "_________________________________________________________________\n",
            " Layer (type)                Output Shape              Param #   \n",
            "=================================================================\n",
            " conv1d_12 (Conv1D)          (None, 56, 128)           55808     \n",
            "                                                                 \n",
            " max_pooling1d_12 (MaxPoolin  (None, 14, 128)          0         \n",
            " g1D)                                                            \n",
            "                                                                 \n",
            " conv1d_13 (Conv1D)          (None, 10, 64)            41024     \n",
            "                                                                 \n",
            " max_pooling1d_13 (MaxPoolin  (None, 2, 64)            0         \n",
            " g1D)                                                            \n",
            "                                                                 \n",
            " flatten_6 (Flatten)         (None, 128)               0         \n",
            "                                                                 \n",
            " dense_12 (Dense)            (None, 64)                8256      \n",
            "                                                                 \n",
            " dropout_6 (Dropout)         (None, 64)                0         \n",
            "                                                                 \n",
            " dense_13 (Dense)            (None, 2)                 130       \n",
            "                                                                 \n",
            "=================================================================\n",
            "Total params: 105,218\n",
            "Trainable params: 105,218\n",
            "Non-trainable params: 0\n",
            "_________________________________________________________________\n"
          ]
        }
      ]
    },
    {
      "cell_type": "markdown",
      "metadata": {
        "id": "hWFb-nAMHuAI"
      },
      "source": [
        "## Model training\n",
        "Train the model and apply early stopping."
      ]
    },
    {
      "cell_type": "code",
      "metadata": {
        "id": "dvgKjqp3Hwkp",
        "colab": {
          "base_uri": "https://localhost:8080/"
        },
        "outputId": "afd51a5b-4f86-4f24-f060-89aa1c6dc6c3"
      },
      "source": [
        "es = EarlyStopping(patience=5, restore_best_weights=True, monitor=\"val_loss\")\n",
        "model.fit(train_sequences, train_labels, \n",
        "          epochs=50, batch_size=32, \n",
        "          validation_split=0.2,\n",
        "          callbacks=[es],\n",
        "          verbose=2)"
      ],
      "execution_count": 129,
      "outputs": [
        {
          "output_type": "stream",
          "name": "stdout",
          "text": [
            "Epoch 1/50\n",
            "392/392 - 10s - loss: 0.6858 - accuracy: 0.5611 - val_loss: 0.6783 - val_accuracy: 0.5729 - 10s/epoch - 26ms/step\n",
            "Epoch 2/50\n",
            "392/392 - 7s - loss: 0.6743 - accuracy: 0.5709 - val_loss: 0.6638 - val_accuracy: 0.5892 - 7s/epoch - 19ms/step\n",
            "Epoch 3/50\n",
            "392/392 - 9s - loss: 0.6431 - accuracy: 0.6221 - val_loss: 0.6577 - val_accuracy: 0.6144 - 9s/epoch - 22ms/step\n",
            "Epoch 4/50\n",
            "392/392 - 7s - loss: 0.5833 - accuracy: 0.6967 - val_loss: 0.6452 - val_accuracy: 0.6444 - 7s/epoch - 18ms/step\n",
            "Epoch 5/50\n",
            "392/392 - 9s - loss: 0.5119 - accuracy: 0.7514 - val_loss: 0.6717 - val_accuracy: 0.6492 - 9s/epoch - 23ms/step\n",
            "Epoch 6/50\n",
            "392/392 - 8s - loss: 0.4293 - accuracy: 0.8050 - val_loss: 0.7247 - val_accuracy: 0.6230 - 8s/epoch - 21ms/step\n",
            "Epoch 7/50\n",
            "392/392 - 8s - loss: 0.3487 - accuracy: 0.8537 - val_loss: 0.7774 - val_accuracy: 0.6132 - 8s/epoch - 21ms/step\n",
            "Epoch 8/50\n",
            "392/392 - 9s - loss: 0.2867 - accuracy: 0.8851 - val_loss: 1.0067 - val_accuracy: 0.6237 - 9s/epoch - 23ms/step\n",
            "Epoch 9/50\n",
            "392/392 - 7s - loss: 0.2170 - accuracy: 0.9149 - val_loss: 1.0855 - val_accuracy: 0.5816 - 7s/epoch - 18ms/step\n"
          ]
        },
        {
          "output_type": "execute_result",
          "data": {
            "text/plain": [
              "<keras.callbacks.History at 0x7fa523c1f250>"
            ]
          },
          "metadata": {},
          "execution_count": 129
        }
      ]
    },
    {
      "cell_type": "markdown",
      "metadata": {
        "id": "0omw2XzSHwOo"
      },
      "source": [
        "## Evaluation on test data\n",
        "Evaluate the model on the test data in terms of loss and accuracy."
      ]
    },
    {
      "cell_type": "code",
      "metadata": {
        "id": "4bF3dQA1Hv_R",
        "colab": {
          "base_uri": "https://localhost:8080/"
        },
        "outputId": "84e35fba-1dba-409f-95a3-d0c55b94584d"
      },
      "source": [
        "eval = model.evaluate(test_sequences,test_labels)\n",
        "print(\"Test loss:\",eval[0])\n",
        "print(\"Test accuracy:\",eval[1])"
      ],
      "execution_count": 130,
      "outputs": [
        {
          "output_type": "stream",
          "name": "stdout",
          "text": [
            "263/263 [==============================] - 3s 11ms/step - loss: 0.0000e+00 - accuracy: 0.7048\n",
            "Test loss: 0.0\n",
            "Test accuracy: 0.7048379182815552\n"
          ]
        }
      ]
    },
    {
      "cell_type": "markdown",
      "metadata": {
        "id": "4Y73Q-h5Hz1r"
      },
      "source": [
        "## Confusion matrix\n",
        "Calculate and display the confusion matrix."
      ]
    },
    {
      "cell_type": "code",
      "metadata": {
        "id": "cW8zZi1uJm2B",
        "colab": {
          "base_uri": "https://localhost:8080/",
          "height": 631
        },
        "outputId": "ab9c45ed-7df5-47a8-bffc-a0e246751bd7"
      },
      "source": [
        "preds = model.predict(test_sequences)\n",
        "print(classification_report(np.argmax(test_labels,1),np.argmax(preds,1), zero_division=1))\n",
        "\n",
        "conf=confusion_matrix(np.argmax(test_labels,1),np.argmax(preds,1))\n",
        "sns.heatmap(conf, annot=True, fmt='d', vmax=100)"
      ],
      "execution_count": 135,
      "outputs": [
        {
          "output_type": "stream",
          "name": "stdout",
          "text": [
            "263/263 [==============================] - 2s 7ms/step\n",
            "              precision    recall  f1-score   support\n",
            "\n",
            "           0       1.00      0.70      0.83      8392\n",
            "           1       0.00      1.00      0.00         0\n",
            "\n",
            "    accuracy                           0.70      8392\n",
            "   macro avg       0.50      0.85      0.41      8392\n",
            "weighted avg       1.00      0.70      0.83      8392\n",
            "\n"
          ]
        },
        {
          "output_type": "execute_result",
          "data": {
            "text/plain": [
              "<Axes: >"
            ]
          },
          "metadata": {},
          "execution_count": 135
        },
        {
          "output_type": "display_data",
          "data": {
            "text/plain": [
              "<Figure size 640x480 with 2 Axes>"
            ],
            "image/png": "[encoded data removed]"
          },
          "metadata": {}
        }
      ]
    },
    {
      "cell_type": "code",
      "source": [],
      "metadata": {
        "id": "2HGXEL5bbhI-"
      },
      "execution_count": null,
      "outputs": []
    }
  ]
}